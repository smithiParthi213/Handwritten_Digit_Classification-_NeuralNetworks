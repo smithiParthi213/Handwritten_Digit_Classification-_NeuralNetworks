{
  "cells": [
    {
      "cell_type": "markdown",
      "id": "a757a09f",
      "metadata": {
        "papermill": {
          "duration": 0.014254,
          "end_time": "2023-12-10T00:34:46.070329",
          "exception": false,
          "start_time": "2023-12-10T00:34:46.056075",
          "status": "completed"
        },
        "tags": [],
        "id": "a757a09f"
      },
      "source": [
        "# **Neural Network Type Classification - TMNIST**"
      ]
    },
    {
      "cell_type": "markdown",
      "id": "3759f93d",
      "metadata": {
        "id": "3759f93d",
        "papermill": {
          "duration": 0.013522,
          "end_time": "2023-12-10T00:34:46.097770",
          "exception": false,
          "start_time": "2023-12-10T00:34:46.084248",
          "status": "completed"
        },
        "tags": []
      },
      "source": [
        "### **AIM :**\n",
        "This notebook aims to perform classification on the TMNIST dataset using Convolutional Neural Network (CNN), CNN with Hyperparameter tuning and Dense Neural Network (DNN).\n",
        "\n",
        "### **DATASET :**\n",
        "The dataset includes 94 distinct elements, encompassing alphabets and special characters. The objective is to build models that can accurately categorize these diverse symbols.\n",
        "\n",
        "### **PROCESS FLOW :**\n",
        "\n",
        "1.  Importing necessary libraribes\n",
        "2.  Loading and analyzing dataset\n",
        "3.  Data Preprocessing\n",
        "4.  Training the model\n",
        "5.  Evaluating the model\n",
        "6.  Vizualing accuracy\n",
        "\n",
        "\n",
        "\n",
        "\n",
        "\n"
      ]
    },
    {
      "cell_type": "markdown",
      "id": "f8a331fe",
      "metadata": {
        "papermill": {
          "duration": 0.013526,
          "end_time": "2023-12-10T00:34:46.125051",
          "exception": false,
          "start_time": "2023-12-10T00:34:46.111525",
          "status": "completed"
        },
        "tags": [],
        "id": "f8a331fe"
      },
      "source": [
        "Copyright [2023] [Smithi Parthiban]\n",
        "\n",
        "Licensed under the Apache License, Version 2.0 (the \"License\");\n",
        "you may not use this file except in compliance with the License.\n",
        "You may obtain a copy of the License at\n",
        "\n",
        "    http://www.apache.org/licenses/LICENSE-2.0\n",
        "\n",
        "Unless required by applicable law or agreed to in writing, software\n",
        "distributed under the License is distributed on an \"AS IS\" BASIS,\n",
        "WITHOUT WARRANTIES OR CONDITIONS OF ANY KIND, either express or implied.\n",
        "See the License for the specific language governing permissions and\n",
        "limitations under the License."
      ]
    },
    {
      "cell_type": "markdown",
      "id": "0f40512c",
      "metadata": {
        "id": "0f40512c",
        "papermill": {
          "duration": 0.013432,
          "end_time": "2023-12-10T00:34:46.152711",
          "exception": false,
          "start_time": "2023-12-10T00:34:46.139279",
          "status": "completed"
        },
        "tags": []
      },
      "source": [
        "## 1. IMPORTING LIBRARIES"
      ]
    },
    {
      "cell_type": "code",
      "execution_count": null,
      "id": "a8b70572",
      "metadata": {
        "execution": {
          "iopub.execute_input": "2023-12-10T00:34:46.182891Z",
          "iopub.status.busy": "2023-12-10T00:34:46.182197Z",
          "iopub.status.idle": "2023-12-10T00:35:00.019720Z",
          "shell.execute_reply": "2023-12-10T00:35:00.018535Z"
        },
        "id": "a8b70572",
        "papermill": {
          "duration": 13.855231,
          "end_time": "2023-12-10T00:35:00.022238",
          "exception": false,
          "start_time": "2023-12-10T00:34:46.167007",
          "status": "completed"
        },
        "tags": []
      },
      "outputs": [],
      "source": [
        "import numpy as np\n",
        "import pandas as pd\n",
        "import re\n",
        "import matplotlib.pyplot as plt\n",
        "import seaborn as sns\n",
        "import matplotlib.pyplot as plt\n",
        "from sklearn.model_selection import train_test_split\n",
        "from sklearn.utils import shuffle\n",
        "from sklearn.preprocessing import OneHotEncoder\n",
        "from sklearn.model_selection import train_test_split\n",
        "\n",
        "\n",
        "from tensorflow.keras.models import Sequential,load_model\n",
        "from tensorflow.keras.layers import Dense, Conv2D, MaxPool2D,Flatten,Dropout,BatchNormalization\n",
        "from tensorflow.keras.optimizers import SGD, Adam, RMSprop\n",
        "from tensorflow.keras.callbacks import EarlyStopping\n",
        "import tensorflow as tf\n",
        "from sklearn.preprocessing import LabelBinarizer\n",
        "\n",
        "from keras.models import Sequential\n",
        "from keras.layers import Conv2D, MaxPooling2D, Flatten, Dense, Dropout\n",
        "from keras.optimizers import Adam\n",
        "\n",
        "from tensorflow import keras\n",
        "from tensorflow.keras import layers\n",
        "from tensorflow.keras.callbacks import EarlyStopping"
      ]
    },
    {
      "cell_type": "markdown",
      "id": "53be28c8",
      "metadata": {
        "id": "53be28c8",
        "papermill": {
          "duration": 0.014169,
          "end_time": "2023-12-10T00:35:00.050636",
          "exception": false,
          "start_time": "2023-12-10T00:35:00.036467",
          "status": "completed"
        },
        "tags": []
      },
      "source": [
        "## 2.1 LOADING THE DATASET"
      ]
    },
    {
      "cell_type": "code",
      "execution_count": null,
      "id": "d8b3f170",
      "metadata": {
        "execution": {
          "iopub.execute_input": "2023-12-10T00:35:00.080841Z",
          "iopub.status.busy": "2023-12-10T00:35:00.080159Z",
          "iopub.status.idle": "2023-12-10T00:35:00.084622Z",
          "shell.execute_reply": "2023-12-10T00:35:00.083770Z"
        },
        "id": "d8b3f170",
        "papermill": {
          "duration": 0.021705,
          "end_time": "2023-12-10T00:35:00.086451",
          "exception": false,
          "start_time": "2023-12-10T00:35:00.064746",
          "status": "completed"
        },
        "tags": []
      },
      "outputs": [],
      "source": [
        "#from google.colab import drive\n",
        "#drive.mount('/content/drive')"
      ]
    },
    {
      "cell_type": "code",
      "execution_count": null,
      "id": "1aecfa30",
      "metadata": {
        "execution": {
          "iopub.execute_input": "2023-12-10T00:35:00.116482Z",
          "iopub.status.busy": "2023-12-10T00:35:00.115851Z",
          "iopub.status.idle": "2023-12-10T00:35:33.044944Z",
          "shell.execute_reply": "2023-12-10T00:35:33.043883Z"
        },
        "id": "1aecfa30",
        "papermill": {
          "duration": 32.947084,
          "end_time": "2023-12-10T00:35:33.047459",
          "exception": false,
          "start_time": "2023-12-10T00:35:00.100375",
          "status": "completed"
        },
        "tags": []
      },
      "outputs": [],
      "source": [
        "df = pd.read_csv('/kaggle/input/tmnist-alphabet-94-characters/94_character_TMNIST.csv')\n",
        "#df.head()"
      ]
    },
    {
      "cell_type": "code",
      "execution_count": null,
      "id": "8577edb5",
      "metadata": {
        "execution": {
          "iopub.execute_input": "2023-12-10T00:35:33.082128Z",
          "iopub.status.busy": "2023-12-10T00:35:33.081740Z",
          "iopub.status.idle": "2023-12-10T00:35:33.136907Z",
          "shell.execute_reply": "2023-12-10T00:35:33.135459Z"
        },
        "papermill": {
          "duration": 0.077409,
          "end_time": "2023-12-10T00:35:33.139969",
          "exception": false,
          "start_time": "2023-12-10T00:35:33.062560",
          "status": "completed"
        },
        "tags": [],
        "id": "8577edb5",
        "outputId": "7baa8eed-fc91-48c3-bf3d-5abbbfc04b9f"
      },
      "outputs": [
        {
          "data": {
            "text/html": [
              "<div>\n",
              "<style scoped>\n",
              "    .dataframe tbody tr th:only-of-type {\n",
              "        vertical-align: middle;\n",
              "    }\n",
              "\n",
              "    .dataframe tbody tr th {\n",
              "        vertical-align: top;\n",
              "    }\n",
              "\n",
              "    .dataframe thead th {\n",
              "        text-align: right;\n",
              "    }\n",
              "</style>\n",
              "<table border=\"1\" class=\"dataframe\">\n",
              "  <thead>\n",
              "    <tr style=\"text-align: right;\">\n",
              "      <th></th>\n",
              "      <th>names</th>\n",
              "      <th>labels</th>\n",
              "      <th>1</th>\n",
              "      <th>2</th>\n",
              "      <th>3</th>\n",
              "      <th>4</th>\n",
              "      <th>5</th>\n",
              "      <th>6</th>\n",
              "      <th>7</th>\n",
              "      <th>8</th>\n",
              "      <th>...</th>\n",
              "      <th>775</th>\n",
              "      <th>776</th>\n",
              "      <th>777</th>\n",
              "      <th>778</th>\n",
              "      <th>779</th>\n",
              "      <th>780</th>\n",
              "      <th>781</th>\n",
              "      <th>782</th>\n",
              "      <th>783</th>\n",
              "      <th>784</th>\n",
              "    </tr>\n",
              "  </thead>\n",
              "  <tbody>\n",
              "    <tr>\n",
              "      <th>0</th>\n",
              "      <td>Salsa-Regular</td>\n",
              "      <td>6</td>\n",
              "      <td>0.0</td>\n",
              "      <td>0.0</td>\n",
              "      <td>0.0</td>\n",
              "      <td>0.0</td>\n",
              "      <td>0.0</td>\n",
              "      <td>0.0</td>\n",
              "      <td>0.0</td>\n",
              "      <td>0.0</td>\n",
              "      <td>...</td>\n",
              "      <td>0.0</td>\n",
              "      <td>0.0</td>\n",
              "      <td>0.0</td>\n",
              "      <td>0.0</td>\n",
              "      <td>0.0</td>\n",
              "      <td>0.0</td>\n",
              "      <td>0.0</td>\n",
              "      <td>0.0</td>\n",
              "      <td>0.0</td>\n",
              "      <td>0.0</td>\n",
              "    </tr>\n",
              "    <tr>\n",
              "      <th>1</th>\n",
              "      <td>MouseMemoirs-Regular</td>\n",
              "      <td>D</td>\n",
              "      <td>0.0</td>\n",
              "      <td>0.0</td>\n",
              "      <td>0.0</td>\n",
              "      <td>0.0</td>\n",
              "      <td>0.0</td>\n",
              "      <td>0.0</td>\n",
              "      <td>0.0</td>\n",
              "      <td>0.0</td>\n",
              "      <td>...</td>\n",
              "      <td>0.0</td>\n",
              "      <td>0.0</td>\n",
              "      <td>0.0</td>\n",
              "      <td>0.0</td>\n",
              "      <td>0.0</td>\n",
              "      <td>0.0</td>\n",
              "      <td>0.0</td>\n",
              "      <td>0.0</td>\n",
              "      <td>0.0</td>\n",
              "      <td>0.0</td>\n",
              "    </tr>\n",
              "    <tr>\n",
              "      <th>2</th>\n",
              "      <td>Creepster-Regular</td>\n",
              "      <td>f</td>\n",
              "      <td>0.0</td>\n",
              "      <td>0.0</td>\n",
              "      <td>0.0</td>\n",
              "      <td>0.0</td>\n",
              "      <td>0.0</td>\n",
              "      <td>0.0</td>\n",
              "      <td>0.0</td>\n",
              "      <td>0.0</td>\n",
              "      <td>...</td>\n",
              "      <td>0.0</td>\n",
              "      <td>0.0</td>\n",
              "      <td>0.0</td>\n",
              "      <td>0.0</td>\n",
              "      <td>0.0</td>\n",
              "      <td>0.0</td>\n",
              "      <td>0.0</td>\n",
              "      <td>0.0</td>\n",
              "      <td>0.0</td>\n",
              "      <td>0.0</td>\n",
              "    </tr>\n",
              "    <tr>\n",
              "      <th>3</th>\n",
              "      <td>SeoulNamsan-Light</td>\n",
              "      <td>/</td>\n",
              "      <td>0.0</td>\n",
              "      <td>0.0</td>\n",
              "      <td>0.0</td>\n",
              "      <td>0.0</td>\n",
              "      <td>0.0</td>\n",
              "      <td>0.0</td>\n",
              "      <td>0.0</td>\n",
              "      <td>0.0</td>\n",
              "      <td>...</td>\n",
              "      <td>0.0</td>\n",
              "      <td>0.0</td>\n",
              "      <td>0.0</td>\n",
              "      <td>0.0</td>\n",
              "      <td>0.0</td>\n",
              "      <td>0.0</td>\n",
              "      <td>0.0</td>\n",
              "      <td>0.0</td>\n",
              "      <td>0.0</td>\n",
              "      <td>0.0</td>\n",
              "    </tr>\n",
              "    <tr>\n",
              "      <th>4</th>\n",
              "      <td>HachiMaruPop-Regular</td>\n",
              "      <td>F</td>\n",
              "      <td>0.0</td>\n",
              "      <td>0.0</td>\n",
              "      <td>0.0</td>\n",
              "      <td>0.0</td>\n",
              "      <td>0.0</td>\n",
              "      <td>0.0</td>\n",
              "      <td>0.0</td>\n",
              "      <td>0.0</td>\n",
              "      <td>...</td>\n",
              "      <td>0.0</td>\n",
              "      <td>0.0</td>\n",
              "      <td>0.0</td>\n",
              "      <td>0.0</td>\n",
              "      <td>0.0</td>\n",
              "      <td>0.0</td>\n",
              "      <td>0.0</td>\n",
              "      <td>0.0</td>\n",
              "      <td>0.0</td>\n",
              "      <td>0.0</td>\n",
              "    </tr>\n",
              "  </tbody>\n",
              "</table>\n",
              "<p>5 rows × 786 columns</p>\n",
              "</div>"
            ],
            "text/plain": [
              "                  names labels    1    2    3    4    5    6    7    8  ...  \\\n",
              "0         Salsa-Regular      6  0.0  0.0  0.0  0.0  0.0  0.0  0.0  0.0  ...   \n",
              "1  MouseMemoirs-Regular      D  0.0  0.0  0.0  0.0  0.0  0.0  0.0  0.0  ...   \n",
              "2     Creepster-Regular      f  0.0  0.0  0.0  0.0  0.0  0.0  0.0  0.0  ...   \n",
              "3     SeoulNamsan-Light      /  0.0  0.0  0.0  0.0  0.0  0.0  0.0  0.0  ...   \n",
              "4  HachiMaruPop-Regular      F  0.0  0.0  0.0  0.0  0.0  0.0  0.0  0.0  ...   \n",
              "\n",
              "   775  776  777  778  779  780  781  782  783  784  \n",
              "0  0.0  0.0  0.0  0.0  0.0  0.0  0.0  0.0  0.0  0.0  \n",
              "1  0.0  0.0  0.0  0.0  0.0  0.0  0.0  0.0  0.0  0.0  \n",
              "2  0.0  0.0  0.0  0.0  0.0  0.0  0.0  0.0  0.0  0.0  \n",
              "3  0.0  0.0  0.0  0.0  0.0  0.0  0.0  0.0  0.0  0.0  \n",
              "4  0.0  0.0  0.0  0.0  0.0  0.0  0.0  0.0  0.0  0.0  \n",
              "\n",
              "[5 rows x 786 columns]"
            ]
          },
          "execution_count": 4,
          "metadata": {},
          "output_type": "execute_result"
        }
      ],
      "source": [
        "df.head()"
      ]
    },
    {
      "cell_type": "markdown",
      "id": "b6d246e9",
      "metadata": {
        "id": "b6d246e9",
        "papermill": {
          "duration": 0.015633,
          "end_time": "2023-12-10T00:35:33.170187",
          "exception": false,
          "start_time": "2023-12-10T00:35:33.154554",
          "status": "completed"
        },
        "tags": []
      },
      "source": [
        "## 2.2 ANALYZING THE DATASET"
      ]
    },
    {
      "cell_type": "code",
      "execution_count": null,
      "id": "1f5e6a91",
      "metadata": {
        "execution": {
          "iopub.execute_input": "2023-12-10T00:35:33.258624Z",
          "iopub.status.busy": "2023-12-10T00:35:33.258210Z",
          "iopub.status.idle": "2023-12-10T00:35:33.300289Z",
          "shell.execute_reply": "2023-12-10T00:35:33.299298Z"
        },
        "id": "1f5e6a91",
        "papermill": {
          "duration": 0.117855,
          "end_time": "2023-12-10T00:35:33.302549",
          "exception": false,
          "start_time": "2023-12-10T00:35:33.184694",
          "status": "completed"
        },
        "tags": [],
        "outputId": "6c9a9c7e-da7a-4ccd-b26c-e3845de4541c"
      },
      "outputs": [
        {
          "data": {
            "text/plain": [
              "\"'\""
            ]
          },
          "execution_count": 5,
          "metadata": {},
          "output_type": "execute_result"
        }
      ],
      "source": [
        "all = list(df['labels'].unique())\n",
        "df['labels'].unique()\n",
        "\n",
        "capitalS_regex = re.compile(r\"[A-Z]\")\n",
        "small_regex = re.compile(r\"[a-z]\")\n",
        "numbers_regex = re.compile(r\"[0-9]\")\n",
        "special_characters_regex = re.compile(r\"[\\W]|[\\_\\,]\")\n",
        "\n",
        "capitalS = capitalS_regex.findall(str(all))\n",
        "small = small_regex.findall(str(all))\n",
        "numbers = numbers_regex.findall(str(all))\n",
        "special_characters = special_characters_regex.findall(str(all))\n",
        "\n",
        "# Removing the empty space character\n",
        "special_characters.pop(27)"
      ]
    },
    {
      "cell_type": "code",
      "execution_count": null,
      "id": "5bfbf98e",
      "metadata": {
        "execution": {
          "iopub.execute_input": "2023-12-10T00:35:33.334387Z",
          "iopub.status.busy": "2023-12-10T00:35:33.333760Z",
          "iopub.status.idle": "2023-12-10T00:35:33.625780Z",
          "shell.execute_reply": "2023-12-10T00:35:33.624643Z"
        },
        "id": "5bfbf98e",
        "papermill": {
          "duration": 0.310649,
          "end_time": "2023-12-10T00:35:33.628009",
          "exception": false,
          "start_time": "2023-12-10T00:35:33.317360",
          "status": "completed"
        },
        "tags": [],
        "outputId": "74fbb649-862f-42de-be70-d9322d8ce3e3"
      },
      "outputs": [
        {
          "data": {
            "image/png": "[encoded data removed]",
            "text/plain": [
              "<Figure size 1000x600 with 1 Axes>"
            ]
          },
          "metadata": {},
          "output_type": "display_data"
        }
      ],
      "source": [
        "characters = [\"Capital Letters\", \"Small Letters\", \"Numbers\", \"Special Characters\"]\n",
        "counts = [len(capitalS), len(small), len(numbers), len(special_characters)]\n",
        "\n",
        "plt.figure(figsize=(10, 6))\n",
        "sns.barplot(x=characters, y=counts, palette=\"viridis\")\n",
        "\n",
        "plt.xlabel('Character Type')\n",
        "plt.ylabel('Total')\n",
        "plt.title('Total Number of Characters')\n",
        "plt.show()\n"
      ]
    },
    {
      "cell_type": "markdown",
      "id": "268bee34",
      "metadata": {
        "id": "268bee34",
        "papermill": {
          "duration": 0.015659,
          "end_time": "2023-12-10T00:35:33.659401",
          "exception": false,
          "start_time": "2023-12-10T00:35:33.643742",
          "status": "completed"
        },
        "tags": []
      },
      "source": [
        "### TRAIN TEST SPLIT"
      ]
    },
    {
      "cell_type": "code",
      "execution_count": null,
      "id": "e421da19",
      "metadata": {
        "execution": {
          "iopub.execute_input": "2023-12-10T00:35:33.692113Z",
          "iopub.status.busy": "2023-12-10T00:35:33.691121Z",
          "iopub.status.idle": "2023-12-10T00:35:36.323498Z",
          "shell.execute_reply": "2023-12-10T00:35:36.322405Z"
        },
        "id": "e421da19",
        "papermill": {
          "duration": 2.651459,
          "end_time": "2023-12-10T00:35:36.326100",
          "exception": false,
          "start_time": "2023-12-10T00:35:33.674641",
          "status": "completed"
        },
        "tags": []
      },
      "outputs": [],
      "source": [
        "y=df['labels']\n",
        "X=df.drop(['names','labels'],axis=1)\n",
        "\n",
        "X_train, X_test, Y_train, Y_test = train_test_split( X, y, test_size=0.25, random_state=42,stratify=y)"
      ]
    },
    {
      "cell_type": "code",
      "execution_count": null,
      "id": "cc3bb53f",
      "metadata": {
        "execution": {
          "iopub.execute_input": "2023-12-10T00:35:36.358353Z",
          "iopub.status.busy": "2023-12-10T00:35:36.357948Z",
          "iopub.status.idle": "2023-12-10T00:35:38.266230Z",
          "shell.execute_reply": "2023-12-10T00:35:38.265056Z"
        },
        "id": "cc3bb53f",
        "papermill": {
          "duration": 1.927118,
          "end_time": "2023-12-10T00:35:38.268587",
          "exception": false,
          "start_time": "2023-12-10T00:35:36.341469",
          "status": "completed"
        },
        "tags": [],
        "outputId": "7a9704f7-25d6-4116-f818-503963e1390d"
      },
      "outputs": [
        {
          "data": {
            "image/png": "[encoded data removed]",
            "text/plain": [
              "<Figure size 1500x600 with 15 Axes>"
            ]
          },
          "metadata": {},
          "output_type": "display_data"
        }
      ],
      "source": [
        "plt.figure(figsize=(15, 6))\n",
        "for i in range(15):\n",
        "  plt.subplot(3, 5, i+1)\n",
        "  plt.title(Y_train.iloc[i])\n",
        "  # Converting 1d to 2d array using reshape\n",
        "  plt.imshow(X_train.values[i].reshape(28,28), cmap=plt.get_cmap('gray'))\n",
        "\n",
        "plt.show()"
      ]
    },
    {
      "cell_type": "code",
      "execution_count": null,
      "id": "3e1bf1df",
      "metadata": {
        "execution": {
          "iopub.execute_input": "2023-12-10T00:35:38.302645Z",
          "iopub.status.busy": "2023-12-10T00:35:38.302225Z",
          "iopub.status.idle": "2023-12-10T00:35:39.320825Z",
          "shell.execute_reply": "2023-12-10T00:35:39.319815Z"
        },
        "id": "3e1bf1df",
        "papermill": {
          "duration": 1.038679,
          "end_time": "2023-12-10T00:35:39.323095",
          "exception": false,
          "start_time": "2023-12-10T00:35:38.284416",
          "status": "completed"
        },
        "tags": [],
        "outputId": "118f4484-7465-4299-a267-39358e82fdab"
      },
      "outputs": [
        {
          "data": {
            "image/png": "[encoded data removed]",
            "text/plain": [
              "<Figure size 3000x1000 with 1 Axes>"
            ]
          },
          "metadata": {},
          "output_type": "display_data"
        }
      ],
      "source": [
        "# Assuming Y_train contains your class labels\n",
        "\n",
        "plt.figure(figsize=(30, 10))\n",
        "\n",
        "sns.countplot(x=Y_train, palette='viridis')\n",
        "plt.title('Class Distribution in Train Data')\n",
        "plt.xlabel('Classes')\n",
        "plt.ylabel('Count')\n",
        "\n",
        "plt.show()"
      ]
    },
    {
      "cell_type": "code",
      "execution_count": null,
      "id": "0e7387fa",
      "metadata": {
        "execution": {
          "iopub.execute_input": "2023-12-10T00:35:39.358492Z",
          "iopub.status.busy": "2023-12-10T00:35:39.357830Z",
          "iopub.status.idle": "2023-12-10T00:35:40.314496Z",
          "shell.execute_reply": "2023-12-10T00:35:40.313502Z"
        },
        "id": "0e7387fa",
        "papermill": {
          "duration": 0.977209,
          "end_time": "2023-12-10T00:35:40.316987",
          "exception": false,
          "start_time": "2023-12-10T00:35:39.339778",
          "status": "completed"
        },
        "tags": [],
        "outputId": "b0ab69fe-d517-4ebe-b354-97c667124253"
      },
      "outputs": [
        {
          "data": {
            "image/png": "[encoded data removed]",
            "text/plain": [
              "<Figure size 3000x1000 with 1 Axes>"
            ]
          },
          "metadata": {},
          "output_type": "display_data"
        }
      ],
      "source": [
        "# Assuming Y_train contains your class labels\n",
        "\n",
        "plt.figure(figsize=(30, 10))\n",
        "\n",
        "sns.countplot(x=Y_test, palette='viridis')\n",
        "plt.title('Class Distribution in Test Data')\n",
        "plt.xlabel('Classes')\n",
        "plt.ylabel('Count')\n",
        "\n",
        "plt.show()"
      ]
    },
    {
      "cell_type": "markdown",
      "id": "00f7cbb0",
      "metadata": {
        "id": "00f7cbb0",
        "papermill": {
          "duration": 0.016831,
          "end_time": "2023-12-10T00:35:40.350865",
          "exception": false,
          "start_time": "2023-12-10T00:35:40.334034",
          "status": "completed"
        },
        "tags": []
      },
      "source": [
        "## 3. DATA PREPROCESSING"
      ]
    },
    {
      "cell_type": "markdown",
      "id": "856058ec",
      "metadata": {
        "id": "856058ec",
        "papermill": {
          "duration": 0.016815,
          "end_time": "2023-12-10T00:35:40.384740",
          "exception": false,
          "start_time": "2023-12-10T00:35:40.367925",
          "status": "completed"
        },
        "tags": []
      },
      "source": [
        "### ONE HOT ENCODING THE DATA"
      ]
    },
    {
      "cell_type": "code",
      "execution_count": null,
      "id": "0a9327f3",
      "metadata": {
        "execution": {
          "iopub.execute_input": "2023-12-10T00:35:40.422149Z",
          "iopub.status.busy": "2023-12-10T00:35:40.421054Z",
          "iopub.status.idle": "2023-12-10T00:35:40.527780Z",
          "shell.execute_reply": "2023-12-10T00:35:40.526446Z"
        },
        "id": "0a9327f3",
        "papermill": {
          "duration": 0.127817,
          "end_time": "2023-12-10T00:35:40.530058",
          "exception": false,
          "start_time": "2023-12-10T00:35:40.402241",
          "status": "completed"
        },
        "tags": [],
        "outputId": "f012a58b-1048-4698-840e-a41622fe9133"
      },
      "outputs": [
        {
          "name": "stderr",
          "output_type": "stream",
          "text": [
            "/opt/conda/lib/python3.10/site-packages/sklearn/preprocessing/_encoders.py:868: FutureWarning: `sparse` was renamed to `sparse_output` in version 1.2 and will be removed in 1.4. `sparse_output` is ignored unless you leave `sparse` to its default value.\n",
            "  warnings.warn(\n"
          ]
        }
      ],
      "source": [
        "#encoding the y values using one hot encoder\n",
        "enc = OneHotEncoder(sparse=False,handle_unknown='ignore')\n",
        "y_train_encoded=enc.fit_transform(Y_train.values.reshape(-1,1))\n",
        "y_test_encoded=  enc.transform(Y_test.values.reshape(-1,1))"
      ]
    },
    {
      "cell_type": "markdown",
      "id": "4fd95f26",
      "metadata": {
        "id": "4fd95f26",
        "papermill": {
          "duration": 0.017665,
          "end_time": "2023-12-10T00:35:40.565242",
          "exception": false,
          "start_time": "2023-12-10T00:35:40.547577",
          "status": "completed"
        },
        "tags": []
      },
      "source": [
        "### IDENTIFYING AND DROPPING TARGET"
      ]
    },
    {
      "cell_type": "code",
      "execution_count": null,
      "id": "5c59a0a8",
      "metadata": {
        "execution": {
          "iopub.execute_input": "2023-12-10T00:35:40.601358Z",
          "iopub.status.busy": "2023-12-10T00:35:40.600980Z",
          "iopub.status.idle": "2023-12-10T00:35:41.274094Z",
          "shell.execute_reply": "2023-12-10T00:35:41.272845Z"
        },
        "id": "5c59a0a8",
        "papermill": {
          "duration": 0.694024,
          "end_time": "2023-12-10T00:35:41.276542",
          "exception": false,
          "start_time": "2023-12-10T00:35:40.582518",
          "status": "completed"
        },
        "tags": []
      },
      "outputs": [],
      "source": [
        "y = df[['labels']]\n",
        "x = df.drop(columns=['names','labels'], axis=1)"
      ]
    },
    {
      "cell_type": "markdown",
      "id": "7c4dfbb6",
      "metadata": {
        "id": "7c4dfbb6",
        "papermill": {
          "duration": 0.01694,
          "end_time": "2023-12-10T00:35:41.310751",
          "exception": false,
          "start_time": "2023-12-10T00:35:41.293811",
          "status": "completed"
        },
        "tags": []
      },
      "source": [
        "### TRAIN TEST SPLIT (80:20)"
      ]
    },
    {
      "cell_type": "code",
      "execution_count": null,
      "id": "f09e4e5c",
      "metadata": {
        "execution": {
          "iopub.execute_input": "2023-12-10T00:35:41.346792Z",
          "iopub.status.busy": "2023-12-10T00:35:41.346410Z",
          "iopub.status.idle": "2023-12-10T00:35:43.118906Z",
          "shell.execute_reply": "2023-12-10T00:35:43.118081Z"
        },
        "id": "f09e4e5c",
        "papermill": {
          "duration": 1.794046,
          "end_time": "2023-12-10T00:35:43.121928",
          "exception": false,
          "start_time": "2023-12-10T00:35:41.327882",
          "status": "completed"
        },
        "tags": []
      },
      "outputs": [],
      "source": [
        "X_train, X_test, y_train, y_test = train_test_split(x, y, test_size=0.2, random_state=1)\n",
        "y_train = y_train.values.reshape(-1,1)\n",
        "y_test = y_test.values.reshape(-1,1)"
      ]
    },
    {
      "cell_type": "markdown",
      "id": "edd7a509",
      "metadata": {
        "id": "edd7a509",
        "papermill": {
          "duration": 0.016808,
          "end_time": "2023-12-10T00:35:43.159233",
          "exception": false,
          "start_time": "2023-12-10T00:35:43.142425",
          "status": "completed"
        },
        "tags": []
      },
      "source": [
        "## 4. TRAIN THE MODEL"
      ]
    },
    {
      "cell_type": "markdown",
      "id": "4df93a7a",
      "metadata": {
        "id": "4df93a7a",
        "papermill": {
          "duration": 0.016804,
          "end_time": "2023-12-10T00:35:43.193156",
          "exception": false,
          "start_time": "2023-12-10T00:35:43.176352",
          "status": "completed"
        },
        "tags": []
      },
      "source": [
        "\n",
        "The LabelBinarizer class is used for label binarization, converting categorical labels into a binary format. This involves both fitting the label binarizer to the unique labels in y_train and transforming those labels into binary vectors. Subsequently, y_train_label holds binary representations of the original categorical labels. When applied to the test labels (y_test), the transform method ensures consistent mapping learned during training, transforming the test labels into binary vectors. These binary representations are commonly utilized to train and assess models that require numerical input for classification tasks."
      ]
    },
    {
      "cell_type": "code",
      "execution_count": null,
      "id": "37bd7869",
      "metadata": {
        "execution": {
          "iopub.execute_input": "2023-12-10T00:35:43.231109Z",
          "iopub.status.busy": "2023-12-10T00:35:43.230435Z",
          "iopub.status.idle": "2023-12-10T00:35:44.704533Z",
          "shell.execute_reply": "2023-12-10T00:35:44.703383Z"
        },
        "id": "37bd7869",
        "papermill": {
          "duration": 1.49523,
          "end_time": "2023-12-10T00:35:44.707125",
          "exception": false,
          "start_time": "2023-12-10T00:35:43.211895",
          "status": "completed"
        },
        "tags": []
      },
      "outputs": [],
      "source": [
        "lb = LabelBinarizer()\n",
        "y_train_label = lb.fit_transform(y_train)\n",
        "y_test_label = lb.transform(y_test)"
      ]
    },
    {
      "cell_type": "markdown",
      "id": "56f56ac0",
      "metadata": {
        "id": "56f56ac0",
        "papermill": {
          "duration": 0.017562,
          "end_time": "2023-12-10T00:35:44.742130",
          "exception": false,
          "start_time": "2023-12-10T00:35:44.724568",
          "status": "completed"
        },
        "tags": []
      },
      "source": [
        "### NORMALIZING THE DATA\n",
        "\n",
        "\n",
        "Label binarization is performed before normalization because labels represent the target variable or the desired output of the model. Unlike input features, labels are not subjected to normalization. The reason is that normalization is a technique applied to input features to aid in the learning process of machine learning models. Normalizing labels doesn't have the same significance as normalizing features."
      ]
    },
    {
      "cell_type": "code",
      "execution_count": null,
      "id": "32a97dde",
      "metadata": {
        "execution": {
          "iopub.execute_input": "2023-12-10T00:35:44.778186Z",
          "iopub.status.busy": "2023-12-10T00:35:44.777825Z",
          "iopub.status.idle": "2023-12-10T00:35:45.452749Z",
          "shell.execute_reply": "2023-12-10T00:35:45.451703Z"
        },
        "id": "32a97dde",
        "papermill": {
          "duration": 0.695861,
          "end_time": "2023-12-10T00:35:45.455254",
          "exception": false,
          "start_time": "2023-12-10T00:35:44.759393",
          "status": "completed"
        },
        "tags": []
      },
      "outputs": [],
      "source": [
        "X_train = X_train.astype('float32')/255.0\n",
        "X_test = X_test.astype('float32')/255.0\n",
        "X_train = X_train.values.reshape(X_train.shape[0],28,28)\n",
        "X_test = X_test.values.reshape(X_test.shape[0],28,28)"
      ]
    },
    {
      "cell_type": "markdown",
      "id": "96bb6a86",
      "metadata": {
        "id": "96bb6a86",
        "papermill": {
          "duration": 0.016905,
          "end_time": "2023-12-10T00:35:45.489527",
          "exception": false,
          "start_time": "2023-12-10T00:35:45.472622",
          "status": "completed"
        },
        "tags": []
      },
      "source": [
        "### IMPLEMENTATION OF CNN MODEL"
      ]
    },
    {
      "cell_type": "markdown",
      "id": "ab0e2a5b",
      "metadata": {
        "id": "ab0e2a5b",
        "papermill": {
          "duration": 0.01691,
          "end_time": "2023-12-10T00:35:45.523535",
          "exception": false,
          "start_time": "2023-12-10T00:35:45.506625",
          "status": "completed"
        },
        "tags": []
      },
      "source": [
        "![image.png](data:image/png;base64,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)"
      ]
    },
    {
      "cell_type": "markdown",
      "id": "5101bba8",
      "metadata": {
        "id": "5101bba8",
        "papermill": {
          "duration": 0.017024,
          "end_time": "2023-12-10T00:35:45.558592",
          "exception": false,
          "start_time": "2023-12-10T00:35:45.541568",
          "status": "completed"
        },
        "tags": []
      },
      "source": [
        "A Convolutional Neural Network (CNN) is specifically designed for the processing and analysis of visual data. Its fundamental components consist of convolutional layers, pooling layers, and fully connected layers.\n",
        "\n",
        "1. ***Convolutional layers*** serve as the foundational elements of a CNN, comprising filters that learn to recognize a variety of features, such as edges, textures, or more intricate patterns in subsequent layers.\n",
        "\n",
        "2. ***Pooling layers*** play a role in diminishing the spatial dimensions of the input volume. This reduction aids in retaining crucial features while mitigating computational complexity and guarding against overfitting.\n",
        "\n",
        "3. Following a sequence of convolutional and pooling layers, the data undergoes a ***flattening process***, transforming it into a one-dimensional vector. This flattening operation is crucial for establishing connections between the convolutional and fully connected layers.\n",
        "\n",
        "4. ***Fully connected layers***, conventional in neural networks, establish connections between every neuron in the previous and subsequent layers. They utilize the flattened output from earlier layers to make predictions based on the acquired features.\n",
        "\n",
        "5. ***Activation functions*** are frequently employed to introduce nonlinearities into the model, enhancing its ability to capture complex relationships within the data.\n",
        "\n",
        "6. The ***output layer*** is responsible for generating the final results of the model. In classification tasks, it commonly employs the softmax activation function to produce probabilities for each class."
      ]
    },
    {
      "cell_type": "markdown",
      "id": "ab8080ba",
      "metadata": {
        "id": "ab8080ba",
        "papermill": {
          "duration": 0.01716,
          "end_time": "2023-12-10T00:35:45.592871",
          "exception": false,
          "start_time": "2023-12-10T00:35:45.575711",
          "status": "completed"
        },
        "tags": []
      },
      "source": [
        "In the given code, a Sequential model is initialized, representing a linear stack of layers in ***Keras***. This model simplifies the creation of a neural network, ensuring each layer has precisely one input tensor and one output tensor.\n",
        "\n",
        "Following this, a convolutional layer is added to the model, utilizing the Rectified Linear Unit (ReLU) activation function. Subsequently, a max-pooling layer is incorporated, responsible for downsizing the spatial dimensions of the input volume by selecting the maximum value within each 2x2 region. This step aids in computational efficiency and emphasizes essential features.\n",
        "\n",
        "Additional convolutional and max-pooling layers are introduced, followed by the flattening of the output from these layers into a one-dimensional array. This prepares the data for fully connected layers.\n",
        "\n",
        "The model proceeds to include a fully connected layer comprising 128 neurons with a ReLU activation function.\n",
        "\n",
        "The concluding layer is the output layer, featuring a number of neurons equivalent to the dataset's class count. The softmax activation function is employed for multi-class classification, generating probabilities for each class.\n",
        "\n",
        "The ***summary() method*** is then utilized to print a comprehensive overview of the model's architecture, detailing the type and shape of each layer, along with the total number of parameters. This summary is valuable for gaining insights into the neural network's structure."
      ]
    },
    {
      "cell_type": "code",
      "execution_count": null,
      "id": "4e4eec0c",
      "metadata": {
        "execution": {
          "iopub.execute_input": "2023-12-10T00:35:45.629566Z",
          "iopub.status.busy": "2023-12-10T00:35:45.629158Z",
          "iopub.status.idle": "2023-12-10T00:35:46.111937Z",
          "shell.execute_reply": "2023-12-10T00:35:46.110758Z"
        },
        "id": "4e4eec0c",
        "papermill": {
          "duration": 0.510606,
          "end_time": "2023-12-10T00:35:46.121212",
          "exception": false,
          "start_time": "2023-12-10T00:35:45.610606",
          "status": "completed"
        },
        "tags": [],
        "outputId": "e7c9eab6-96b7-44ac-e2b9-da8f3779adad"
      },
      "outputs": [
        {
          "name": "stdout",
          "output_type": "stream",
          "text": [
            "Model: \"sequential\"\n",
            "_________________________________________________________________\n",
            " Layer (type)                Output Shape              Param #   \n",
            "=================================================================\n",
            " conv2d (Conv2D)             (None, 25, 25, 32)        544       \n",
            "                                                                 \n",
            " max_pooling2d (MaxPooling2  (None, 12, 12, 32)        0         \n",
            " D)                                                              \n",
            "                                                                 \n",
            " conv2d_1 (Conv2D)           (None, 9, 9, 64)          32832     \n",
            "                                                                 \n",
            " max_pooling2d_1 (MaxPoolin  (None, 4, 4, 64)          0         \n",
            " g2D)                                                            \n",
            "                                                                 \n",
            " flatten (Flatten)           (None, 1024)              0         \n",
            "                                                                 \n",
            " dense (Dense)               (None, 128)               131200    \n",
            "                                                                 \n",
            " dense_1 (Dense)             (None, 94)                12126     \n",
            "                                                                 \n",
            "=================================================================\n",
            "Total params: 176702 (690.24 KB)\n",
            "Trainable params: 176702 (690.24 KB)\n",
            "Non-trainable params: 0 (0.00 Byte)\n",
            "_________________________________________________________________\n"
          ]
        }
      ],
      "source": [
        "cnn_model = Sequential()\n",
        "\n",
        "cnn_model.add(Conv2D(32,(4,4),input_shape = (28,28,1),activation = 'relu'))\n",
        "cnn_model.add(MaxPooling2D(pool_size=(2,2)))\n",
        "cnn_model.add(Conv2D(64,(4,4),activation = 'relu'))\n",
        "cnn_model.add(MaxPooling2D(pool_size=(2,2)))\n",
        "cnn_model.add(Flatten())\n",
        "cnn_model.add(Dense(128, activation='relu'))\n",
        "cnn_model.add(Dense(y_train_label.shape[1], activation='softmax'))\n",
        "\n",
        "cnn_model.summary()"
      ]
    },
    {
      "cell_type": "markdown",
      "id": "353548a5",
      "metadata": {
        "id": "353548a5",
        "papermill": {
          "duration": 0.018556,
          "end_time": "2023-12-10T00:35:46.158653",
          "exception": false,
          "start_time": "2023-12-10T00:35:46.140097",
          "status": "completed"
        },
        "tags": []
      },
      "source": [
        "The ***Adaptive Moment Estimation (Adam)*** is a widely used optimization algorithm for training neural networks. It adjusts the learning rates of individual parameters by considering their historical gradients, rendering it effective for various optimization challenges.\n",
        "\n",
        "***Categorical crossentropy*** serves as a prevalent choice for the loss function. Specifically designed for classification tasks with multiple classes, it quantifies the disparity between the actual class labels and the predicted probabilities.\n",
        "\n",
        "For the evaluation of model performance in classification tasks, the ***accuracy metric*** is commonly utilized. This metric gauges the proportion of correctly classified samples, providing a measure of the model's overall correctness in predicting class labels."
      ]
    },
    {
      "cell_type": "code",
      "execution_count": null,
      "id": "06b9b98c",
      "metadata": {
        "execution": {
          "iopub.execute_input": "2023-12-10T00:35:46.198148Z",
          "iopub.status.busy": "2023-12-10T00:35:46.197762Z",
          "iopub.status.idle": "2023-12-10T00:35:46.215900Z",
          "shell.execute_reply": "2023-12-10T00:35:46.214769Z"
        },
        "id": "06b9b98c",
        "papermill": {
          "duration": 0.040558,
          "end_time": "2023-12-10T00:35:46.218211",
          "exception": false,
          "start_time": "2023-12-10T00:35:46.177653",
          "status": "completed"
        },
        "tags": []
      },
      "outputs": [],
      "source": [
        "optimizer = Adam()\n",
        "cnn_model.compile(loss='categorical_crossentropy', optimizer=optimizer, metrics=['accuracy'])"
      ]
    },
    {
      "cell_type": "markdown",
      "id": "8a2bff95",
      "metadata": {
        "id": "8a2bff95",
        "papermill": {
          "duration": 0.018486,
          "end_time": "2023-12-10T00:35:46.255974",
          "exception": false,
          "start_time": "2023-12-10T00:35:46.237488",
          "status": "completed"
        },
        "tags": []
      },
      "source": [
        "### FITTING THE CNN MODEL"
      ]
    },
    {
      "cell_type": "markdown",
      "id": "a3ecbb58",
      "metadata": {
        "id": "a3ecbb58",
        "papermill": {
          "duration": 0.019665,
          "end_time": "2023-12-10T00:35:46.295452",
          "exception": false,
          "start_time": "2023-12-10T00:35:46.275787",
          "status": "completed"
        },
        "tags": []
      },
      "source": [
        "Following hyperparameters are set for the CNN\n",
        "\n",
        "1. ***epochs=10:*** An epoch is one complete pass through the entire training dataset. The model will be trained for 20 epochs, meaning it will go through the entire dataset 20 times.\n",
        "\n",
        "2. ***batch_size=128:*** The training dataset is divided into batches, and the model's weights are updated after processing each batch. In this case, each batch consists of 128 samples."
      ]
    },
    {
      "cell_type": "code",
      "execution_count": null,
      "id": "ba8a7735",
      "metadata": {
        "execution": {
          "iopub.execute_input": "2023-12-10T00:35:46.336683Z",
          "iopub.status.busy": "2023-12-10T00:35:46.336241Z",
          "iopub.status.idle": "2023-12-10T00:48:10.762953Z",
          "shell.execute_reply": "2023-12-10T00:48:10.761136Z"
        },
        "id": "ba8a7735",
        "papermill": {
          "duration": 744.450208,
          "end_time": "2023-12-10T00:48:10.766062",
          "exception": false,
          "start_time": "2023-12-10T00:35:46.315854",
          "status": "completed"
        },
        "tags": [],
        "outputId": "27288647-9ce1-4f6c-da8b-9e2c1e0684a0"
      },
      "outputs": [
        {
          "name": "stdout",
          "output_type": "stream",
          "text": [
            "Epoch 1/10\n",
            "1542/1542 [==============================] - 73s 47ms/step - loss: 0.6830 - accuracy: 0.8125 - val_loss: 0.4023 - val_accuracy: 0.8745\n",
            "Epoch 2/10\n",
            "1542/1542 [==============================] - 72s 47ms/step - loss: 0.3374 - accuracy: 0.8957 - val_loss: 0.3138 - val_accuracy: 0.9027\n",
            "Epoch 3/10\n",
            "1542/1542 [==============================] - 71s 46ms/step - loss: 0.2703 - accuracy: 0.9163 - val_loss: 0.2583 - val_accuracy: 0.9213\n",
            "Epoch 4/10\n",
            "1542/1542 [==============================] - 71s 46ms/step - loss: 0.2352 - accuracy: 0.9244 - val_loss: 0.2550 - val_accuracy: 0.9224\n",
            "Epoch 5/10\n",
            "1542/1542 [==============================] - 71s 46ms/step - loss: 0.2088 - accuracy: 0.9322 - val_loss: 0.2504 - val_accuracy: 0.9206\n",
            "Epoch 6/10\n",
            "1542/1542 [==============================] - 71s 46ms/step - loss: 0.1890 - accuracy: 0.9374 - val_loss: 0.2355 - val_accuracy: 0.9253\n",
            "Epoch 7/10\n",
            "1542/1542 [==============================] - 71s 46ms/step - loss: 0.1732 - accuracy: 0.9411 - val_loss: 0.2239 - val_accuracy: 0.9304\n",
            "Epoch 8/10\n",
            "1542/1542 [==============================] - 70s 46ms/step - loss: 0.1610 - accuracy: 0.9451 - val_loss: 0.2349 - val_accuracy: 0.9293\n",
            "Epoch 9/10\n",
            "1542/1542 [==============================] - 75s 48ms/step - loss: 0.1490 - accuracy: 0.9486 - val_loss: 0.2275 - val_accuracy: 0.9295\n",
            "Epoch 10/10\n",
            "1542/1542 [==============================] - 72s 46ms/step - loss: 0.1396 - accuracy: 0.9511 - val_loss: 0.2304 - val_accuracy: 0.9321\n"
          ]
        }
      ],
      "source": [
        "history = cnn_model.fit(X_train, y_train_label, validation_split=0.1, epochs=10, batch_size=128, verbose=1)"
      ]
    },
    {
      "cell_type": "markdown",
      "id": "ae00cbe4",
      "metadata": {
        "id": "ae00cbe4",
        "papermill": {
          "duration": 0.558231,
          "end_time": "2023-12-10T00:48:11.951189",
          "exception": false,
          "start_time": "2023-12-10T00:48:11.392958",
          "status": "completed"
        },
        "tags": []
      },
      "source": [
        "## 5. EVALUATING THE MODEL"
      ]
    },
    {
      "cell_type": "code",
      "execution_count": null,
      "id": "9f8c5457",
      "metadata": {
        "execution": {
          "iopub.execute_input": "2023-12-10T00:48:13.159574Z",
          "iopub.status.busy": "2023-12-10T00:48:13.158165Z",
          "iopub.status.idle": "2023-12-10T00:48:21.469289Z",
          "shell.execute_reply": "2023-12-10T00:48:21.468538Z"
        },
        "id": "9f8c5457",
        "papermill": {
          "duration": 8.964864,
          "end_time": "2023-12-10T00:48:21.472417",
          "exception": false,
          "start_time": "2023-12-10T00:48:12.507553",
          "status": "completed"
        },
        "tags": [],
        "outputId": "af4f981a-cd49-4426-81f6-09ea5b333cc4"
      },
      "outputs": [
        {
          "name": "stdout",
          "output_type": "stream",
          "text": [
            "Accuracy of CNN model: 93.22 %\n"
          ]
        }
      ],
      "source": [
        "accuracy_test = cnn_model.evaluate(X_test, y_test_label, verbose = 0)\n",
        "print('Accuracy of CNN model:', round(accuracy_test[1]*100,2), '%')"
      ]
    },
    {
      "cell_type": "markdown",
      "id": "d1997cc1",
      "metadata": {
        "papermill": {
          "duration": 0.568393,
          "end_time": "2023-12-10T00:48:22.622046",
          "exception": false,
          "start_time": "2023-12-10T00:48:22.053653",
          "status": "completed"
        },
        "tags": [],
        "id": "d1997cc1"
      },
      "source": [
        "### **Observations:**\n",
        "\n",
        "\n",
        "* ***The final accuracy result of approximately 93.22%***\n",
        "* It suggests that the model has accurately predicted the class labels for 93.22% (approx.) of the test samples, demonstrating its effectiveness in generalizing to previously unseen data."
      ]
    },
    {
      "cell_type": "markdown",
      "id": "e62091f1",
      "metadata": {
        "id": "e62091f1",
        "papermill": {
          "duration": 0.558767,
          "end_time": "2023-12-10T00:48:23.828527",
          "exception": false,
          "start_time": "2023-12-10T00:48:23.269760",
          "status": "completed"
        },
        "tags": []
      },
      "source": [
        "### 6. VIZUALIZING THE ACCURACY"
      ]
    },
    {
      "cell_type": "code",
      "execution_count": null,
      "id": "5ccf37bf",
      "metadata": {
        "execution": {
          "iopub.execute_input": "2023-12-10T00:48:25.015746Z",
          "iopub.status.busy": "2023-12-10T00:48:25.015318Z",
          "iopub.status.idle": "2023-12-10T00:48:25.494522Z",
          "shell.execute_reply": "2023-12-10T00:48:25.493610Z"
        },
        "id": "5ccf37bf",
        "papermill": {
          "duration": 1.10612,
          "end_time": "2023-12-10T00:48:25.496678",
          "exception": false,
          "start_time": "2023-12-10T00:48:24.390558",
          "status": "completed"
        },
        "tags": [],
        "outputId": "5777d9eb-12ec-4d3a-e5f9-edb221d8dbe5"
      },
      "outputs": [
        {
          "data": {
            "image/png": "[encoded data removed]",
            "text/plain": [
              "<Figure size 1000x500 with 2 Axes>"
            ]
          },
          "metadata": {},
          "output_type": "display_data"
        }
      ],
      "source": [
        "plt.figure(figsize=(10, 5))\n",
        "plt.subplot(1,2,1)\n",
        "epochs=np.arange(10)\n",
        "plt.title('Model Accuracy vs Epochs')\n",
        "plt.plot(epochs, history.history['accuracy'], label='train', color='blue')\n",
        "plt.ylabel('Accuracy')\n",
        "plt.plot(epochs, history.history['val_accuracy'], label='test', color='green')\n",
        "plt.legend()\n",
        "\n",
        "plt.subplot(1,2,2)\n",
        "plt.title('Model Loss vs Epochs')\n",
        "plt.plot(epochs, history.history['loss'], label='train', color='blue')\n",
        "plt.ylabel('Loss')\n",
        "plt.plot(epochs, history.history['val_loss'], label='test', color='green')\n",
        "plt.legend()\n",
        "plt.show()"
      ]
    },
    {
      "cell_type": "markdown",
      "id": "ed725911",
      "metadata": {
        "id": "ed725911",
        "papermill": {
          "duration": 0.558057,
          "end_time": "2023-12-10T00:48:26.615437",
          "exception": false,
          "start_time": "2023-12-10T00:48:26.057380",
          "status": "completed"
        },
        "tags": []
      },
      "source": [
        "## IMPLEMENTATION OF CNN WITH MODIFICATIONS\n",
        "\n",
        "The below CNN has\n",
        "1. additional **Dropout** layers **(rate = 0.3)** for regularization\n",
        "2. uses different **kernel sizes ((5x5 and 3x3)** in Convolutional layers.\n",
        "3. uses different optimizer - **Adamax**"
      ]
    },
    {
      "cell_type": "markdown",
      "id": "8850de4e",
      "metadata": {
        "id": "8850de4e",
        "papermill": {
          "duration": 0.558295,
          "end_time": "2023-12-10T00:48:27.803272",
          "exception": false,
          "start_time": "2023-12-10T00:48:27.244977",
          "status": "completed"
        },
        "tags": []
      },
      "source": [
        "### PREPROCESSING DATA"
      ]
    },
    {
      "cell_type": "code",
      "execution_count": null,
      "id": "17f00bc2",
      "metadata": {
        "execution": {
          "iopub.execute_input": "2023-12-10T00:48:28.921968Z",
          "iopub.status.busy": "2023-12-10T00:48:28.921564Z",
          "iopub.status.idle": "2023-12-10T00:48:31.761757Z",
          "shell.execute_reply": "2023-12-10T00:48:31.760842Z"
        },
        "id": "17f00bc2",
        "papermill": {
          "duration": 3.396379,
          "end_time": "2023-12-10T00:48:31.764331",
          "exception": false,
          "start_time": "2023-12-10T00:48:28.367952",
          "status": "completed"
        },
        "tags": []
      },
      "outputs": [],
      "source": [
        "X_train1, X_test1, y_train1, y_test1 = train_test_split( X, y, test_size=0.25, random_state=42,stratify=y)"
      ]
    },
    {
      "cell_type": "code",
      "execution_count": null,
      "id": "2e21dde8",
      "metadata": {
        "execution": {
          "iopub.execute_input": "2023-12-10T00:48:32.952423Z",
          "iopub.status.busy": "2023-12-10T00:48:32.951978Z",
          "iopub.status.idle": "2023-12-10T00:48:33.070698Z",
          "shell.execute_reply": "2023-12-10T00:48:33.068812Z"
        },
        "id": "2e21dde8",
        "papermill": {
          "duration": 0.678478,
          "end_time": "2023-12-10T00:48:33.073226",
          "exception": false,
          "start_time": "2023-12-10T00:48:32.394748",
          "status": "completed"
        },
        "tags": [],
        "outputId": "74850b9b-ab01-4220-c4cd-cdae449615ec"
      },
      "outputs": [
        {
          "name": "stderr",
          "output_type": "stream",
          "text": [
            "/opt/conda/lib/python3.10/site-packages/sklearn/preprocessing/_encoders.py:868: FutureWarning: `sparse` was renamed to `sparse_output` in version 1.2 and will be removed in 1.4. `sparse_output` is ignored unless you leave `sparse` to its default value.\n",
            "  warnings.warn(\n"
          ]
        }
      ],
      "source": [
        "from sklearn.preprocessing import OneHotEncoder\n",
        "enc = OneHotEncoder(sparse=False,handle_unknown='ignore')\n",
        "y_train_encoded=enc.fit_transform(y_train1.values.reshape(-1,1))\n",
        "y_test_encoded= enc.transform(y_test1.values.reshape(-1,1))"
      ]
    },
    {
      "cell_type": "code",
      "execution_count": null,
      "id": "a25aaf34",
      "metadata": {
        "execution": {
          "iopub.execute_input": "2023-12-10T00:48:34.264108Z",
          "iopub.status.busy": "2023-12-10T00:48:34.263415Z",
          "iopub.status.idle": "2023-12-10T00:48:34.269095Z",
          "shell.execute_reply": "2023-12-10T00:48:34.268363Z"
        },
        "id": "a25aaf34",
        "papermill": {
          "duration": 0.562358,
          "end_time": "2023-12-10T00:48:34.271046",
          "exception": false,
          "start_time": "2023-12-10T00:48:33.708688",
          "status": "completed"
        },
        "tags": []
      },
      "outputs": [],
      "source": [
        "X_train_modif=X_train1.values.reshape(X_train1.shape[0],28,28)\n",
        "X_test_modif=X_test1.values.reshape(X_test1.shape[0],28,28)\n",
        "\n",
        "image_rows=X_train_modif[0].shape[0]\n",
        "image_cols=X_test_modif[0].shape[1]\n",
        "\n",
        "X_train_modif=X_train_modif.reshape(X_train_modif.shape[0],image_rows,image_cols,1)\n",
        "\n",
        "X_test_modif=X_test_modif.reshape(X_test_modif.shape[0],image_rows,image_cols,1)\n",
        "\n",
        "Input_shape=(image_rows,image_cols,1)"
      ]
    },
    {
      "cell_type": "markdown",
      "id": "40b3922c",
      "metadata": {
        "id": "40b3922c",
        "papermill": {
          "duration": 0.55019,
          "end_time": "2023-12-10T00:48:35.374850",
          "exception": false,
          "start_time": "2023-12-10T00:48:34.824660",
          "status": "completed"
        },
        "tags": []
      },
      "source": [
        "### IMPLEMENTATION OF CNN MODEL WITH MODIFICATION"
      ]
    },
    {
      "cell_type": "markdown",
      "id": "1037813b",
      "metadata": {
        "papermill": {
          "duration": 0.552219,
          "end_time": "2023-12-10T00:48:36.549995",
          "exception": false,
          "start_time": "2023-12-10T00:48:35.997776",
          "status": "completed"
        },
        "tags": [],
        "id": "1037813b"
      },
      "source": [
        "**Dropout:**\n",
        "* Dropout is a regularization technique used in neural networks to prevent overfitting.\n",
        "* During training, dropout randomly sets a fraction of input units to zero at each update, effectively \"dropping them out\" of the network for that iteration.\n",
        "* This means those neurons won't contribute to the forward pass or backpropagation during that training step."
      ]
    },
    {
      "cell_type": "code",
      "execution_count": null,
      "id": "decf4ce0",
      "metadata": {
        "execution": {
          "iopub.execute_input": "2023-12-10T00:48:37.728574Z",
          "iopub.status.busy": "2023-12-10T00:48:37.727148Z",
          "iopub.status.idle": "2023-12-10T00:48:37.836421Z",
          "shell.execute_reply": "2023-12-10T00:48:37.835294Z"
        },
        "id": "decf4ce0",
        "papermill": {
          "duration": 0.667409,
          "end_time": "2023-12-10T00:48:37.839092",
          "exception": false,
          "start_time": "2023-12-10T00:48:37.171683",
          "status": "completed"
        },
        "tags": []
      },
      "outputs": [],
      "source": [
        "model_new = keras.Sequential(\n",
        "    [\n",
        "        keras.Input(shape=Input_shape),\n",
        "        layers.Conv2D(32, kernel_size=(5, 5), activation=\"relu\"),\n",
        "        layers.MaxPooling2D(pool_size=(2, 2)),\n",
        "        layers.Conv2D(64, kernel_size=(3, 3), activation=\"relu\"),\n",
        "        layers.MaxPooling2D(pool_size=(2, 2)),\n",
        "        layers.Flatten(),\n",
        "        layers.Dropout(0.3),\n",
        "        layers.Dense(128, activation='relu'),\n",
        "        layers.Dense(128, activation='relu'),\n",
        "        layers.Dropout(0.3),\n",
        "        layers.Dense(94, activation=\"softmax\"),\n",
        "    ]\n",
        ")"
      ]
    },
    {
      "cell_type": "markdown",
      "id": "08f7ac8b",
      "metadata": {
        "papermill": {
          "duration": 0.622154,
          "end_time": "2023-12-10T00:48:39.011899",
          "exception": false,
          "start_time": "2023-12-10T00:48:38.389745",
          "status": "completed"
        },
        "tags": [],
        "id": "08f7ac8b"
      },
      "source": [
        "**Adamax:**\n",
        "\n",
        "* Adamax is an optimization algorithm used in training neural networks. It is an extension of the Adam optimizer (Adaptive Moment Estimation).\n",
        "* Both Adam and Adamax are adaptive learning rate optimization algorithms that are well-suited for training deep neural networks.\n",
        "* Adamax is considered to be more robust with regards to hyperparameters while dealing with large models and noisy data."
      ]
    },
    {
      "cell_type": "code",
      "execution_count": null,
      "id": "0e695459",
      "metadata": {
        "execution": {
          "iopub.execute_input": "2023-12-10T00:48:40.129186Z",
          "iopub.status.busy": "2023-12-10T00:48:40.128769Z",
          "iopub.status.idle": "2023-12-10T00:48:40.144254Z",
          "shell.execute_reply": "2023-12-10T00:48:40.143478Z"
        },
        "id": "0e695459",
        "papermill": {
          "duration": 0.582474,
          "end_time": "2023-12-10T00:48:40.146529",
          "exception": false,
          "start_time": "2023-12-10T00:48:39.564055",
          "status": "completed"
        },
        "tags": []
      },
      "outputs": [],
      "source": [
        "model_new.compile(optimizer='Adamax', loss='categorical_crossentropy', metrics = ['accuracy'] )\n"
      ]
    },
    {
      "cell_type": "code",
      "execution_count": null,
      "id": "0002460e",
      "metadata": {
        "execution": {
          "iopub.execute_input": "2023-12-10T00:48:41.334452Z",
          "iopub.status.busy": "2023-12-10T00:48:41.333679Z",
          "iopub.status.idle": "2023-12-10T01:02:06.624696Z",
          "shell.execute_reply": "2023-12-10T01:02:06.623627Z"
        },
        "id": "0002460e",
        "papermill": {
          "duration": 805.853054,
          "end_time": "2023-12-10T01:02:06.627413",
          "exception": false,
          "start_time": "2023-12-10T00:48:40.774359",
          "status": "completed"
        },
        "tags": [],
        "outputId": "f4fb0c57-8d23-40c0-fa07-4edeb3cb04b8"
      },
      "outputs": [
        {
          "name": "stdout",
          "output_type": "stream",
          "text": [
            "Epoch 1/10\n",
            "1607/1607 [==============================] - 81s 50ms/step - loss: 1.5954 - accuracy: 0.6137 - val_loss: 0.4527 - val_accuracy: 0.8758\n",
            "Epoch 2/10\n",
            "1607/1607 [==============================] - 79s 49ms/step - loss: 0.5568 - accuracy: 0.8437 - val_loss: 0.3366 - val_accuracy: 0.9049\n",
            "Epoch 3/10\n",
            "1607/1607 [==============================] - 80s 50ms/step - loss: 0.4229 - accuracy: 0.8784 - val_loss: 0.2888 - val_accuracy: 0.9143\n",
            "Epoch 4/10\n",
            "1607/1607 [==============================] - 79s 49ms/step - loss: 0.3588 - accuracy: 0.8947 - val_loss: 0.2636 - val_accuracy: 0.9204\n",
            "Epoch 5/10\n",
            "1607/1607 [==============================] - 79s 49ms/step - loss: 0.3255 - accuracy: 0.9032 - val_loss: 0.2508 - val_accuracy: 0.9244\n",
            "Epoch 6/10\n",
            "1607/1607 [==============================] - 79s 49ms/step - loss: 0.3020 - accuracy: 0.9086 - val_loss: 0.2342 - val_accuracy: 0.9280\n",
            "Epoch 7/10\n",
            "1607/1607 [==============================] - 79s 49ms/step - loss: 0.2810 - accuracy: 0.9145 - val_loss: 0.2262 - val_accuracy: 0.9300\n",
            "Epoch 8/10\n",
            "1607/1607 [==============================] - 79s 49ms/step - loss: 0.2665 - accuracy: 0.9185 - val_loss: 0.2193 - val_accuracy: 0.9306\n",
            "Epoch 9/10\n",
            "1607/1607 [==============================] - 79s 49ms/step - loss: 0.2551 - accuracy: 0.9210 - val_loss: 0.2135 - val_accuracy: 0.9328\n",
            "Epoch 10/10\n",
            "1607/1607 [==============================] - 80s 49ms/step - loss: 0.2431 - accuracy: 0.9243 - val_loss: 0.2117 - val_accuracy: 0.9334\n"
          ]
        }
      ],
      "source": [
        "from keras import callbacks\n",
        "earlystopping = callbacks.EarlyStopping(monitor =\"val_loss\",\n",
        "mode =\"min\", patience = 5,\n",
        "restore_best_weights = True)\n",
        "\n",
        "\n",
        "\n",
        "history_1 = model_new.fit(X_train_modif, y_train_encoded, batch_size = 128,\n",
        "epochs = 10, validation_data =(X_test_modif, y_test_encoded),\n",
        "callbacks =[earlystopping])"
      ]
    },
    {
      "cell_type": "markdown",
      "id": "387594e2",
      "metadata": {
        "papermill": {
          "duration": 1.207689,
          "end_time": "2023-12-10T01:02:09.038837",
          "exception": false,
          "start_time": "2023-12-10T01:02:07.831148",
          "status": "completed"
        },
        "tags": [],
        "id": "387594e2"
      },
      "source": [
        "**Dropout rate: 0.3**\n",
        "* 30% of neurons will be kicked off and will introduce regularization making the model to avoid overfitting.\n",
        "\n",
        "**Early Stopping:**\n",
        "* A Keras callback that stops training when a monitored quantity has stopped improving.\n",
        "* We have implemented early stopping wiht patience value as 5.\n",
        "\n"
      ]
    },
    {
      "cell_type": "markdown",
      "id": "cc4dc820",
      "metadata": {
        "id": "cc4dc820",
        "papermill": {
          "duration": 1.202689,
          "end_time": "2023-12-10T01:02:11.360512",
          "exception": false,
          "start_time": "2023-12-10T01:02:10.157823",
          "status": "completed"
        },
        "tags": []
      },
      "source": [
        "### EVALUATING ACCURACY"
      ]
    },
    {
      "cell_type": "code",
      "execution_count": null,
      "id": "3e06a1a3",
      "metadata": {
        "execution": {
          "iopub.execute_input": "2023-12-10T01:02:13.698243Z",
          "iopub.status.busy": "2023-12-10T01:02:13.697824Z",
          "iopub.status.idle": "2023-12-10T01:02:24.367929Z",
          "shell.execute_reply": "2023-12-10T01:02:24.365624Z"
        },
        "id": "3e06a1a3",
        "papermill": {
          "duration": 11.893252,
          "end_time": "2023-12-10T01:02:24.370579",
          "exception": false,
          "start_time": "2023-12-10T01:02:12.477327",
          "status": "completed"
        },
        "tags": [],
        "outputId": "a40fb49e-bdb8-48fc-966b-6f6e61b913bd"
      },
      "outputs": [
        {
          "name": "stdout",
          "output_type": "stream",
          "text": [
            "2142/2142 [==============================] - 10s 5ms/step - loss: 0.2117 - accuracy: 0.9334\n",
            "Validation Loss is : 0.21166583895683289\n",
            "Validation Accuracy is:  0.9333810210227966\n"
          ]
        }
      ],
      "source": [
        "val_loss, val_acc = model_new.evaluate(X_test_modif, y_test_encoded)  # evaluate the out of sample data with model\n",
        "print('Validation Loss is :',val_loss)  # model's loss (error)\n",
        "print('Validation Accuracy is: ',val_acc)  # model's accuracy"
      ]
    },
    {
      "cell_type": "code",
      "execution_count": null,
      "id": "e6679769",
      "metadata": {
        "execution": {
          "iopub.execute_input": "2023-12-10T01:02:26.803927Z",
          "iopub.status.busy": "2023-12-10T01:02:26.803572Z",
          "iopub.status.idle": "2023-12-10T01:02:26.809081Z",
          "shell.execute_reply": "2023-12-10T01:02:26.807634Z"
        },
        "papermill": {
          "duration": 1.224969,
          "end_time": "2023-12-10T01:02:26.811034",
          "exception": false,
          "start_time": "2023-12-10T01:02:25.586065",
          "status": "completed"
        },
        "tags": [],
        "id": "e6679769",
        "outputId": "4dbeab7c-3faa-46e1-b13f-8409d3679896"
      },
      "outputs": [
        {
          "name": "stdout",
          "output_type": "stream",
          "text": [
            "93.33810210227966 %\n"
          ]
        }
      ],
      "source": [
        "#print('Accuracy of CNN-modified model:', round(val_acc[1]*100,2), '%')\n",
        "Val_Accuracy = val_acc * 100\n",
        "print(Val_Accuracy, '%')"
      ]
    },
    {
      "cell_type": "markdown",
      "id": "2c418658",
      "metadata": {
        "papermill": {
          "duration": 1.202045,
          "end_time": "2023-12-10T01:02:29.139281",
          "exception": false,
          "start_time": "2023-12-10T01:02:27.937236",
          "status": "completed"
        },
        "tags": [],
        "id": "2c418658"
      },
      "source": [
        "**How modification affects the accuracy:**\n",
        "\n",
        "Modification include - change in dropout rate, changing Kernel size, using adamax as optimize.\n",
        "\n",
        "we can observe the following:\n",
        "\n",
        "* accuaracy rate - ***before modifications: 93.22%***\n",
        "* accuaracy rate - ***after modifications: 93.33%***\n",
        "\n",
        "\n",
        "**In this case, the accuracy rate is not much affected even after modifications.**"
      ]
    },
    {
      "cell_type": "markdown",
      "id": "a53da75a",
      "metadata": {
        "id": "a53da75a",
        "papermill": {
          "duration": 1.248937,
          "end_time": "2023-12-10T01:02:31.521750",
          "exception": false,
          "start_time": "2023-12-10T01:02:30.272813",
          "status": "completed"
        },
        "tags": []
      },
      "source": [
        "## **IMPLEMENTATION OF DNN MODEL**\n",
        "\n",
        "**Deep Neural Networks (DNNs)** include multiple hidden layers situated between the input and output layers. This layering facilitates the learning of hierarchical representations of input data, allowing the network to capture intricate patterns and features automatically. The training of DNNs employs the backpropagation algorithm, where the adjustment of connection weights between neurons aims to minimize the disparity between predicted and actual outputs. This iterative process involves computing gradients and updating weights through optimization techniques. DNNs excel in automatically acquiring hierarchical representations and learning complex patterns in data."
      ]
    },
    {
      "cell_type": "markdown",
      "id": "a747be6b",
      "metadata": {
        "id": "a747be6b",
        "papermill": {
          "duration": 1.137499,
          "end_time": "2023-12-10T01:02:33.876400",
          "exception": false,
          "start_time": "2023-12-10T01:02:32.738901",
          "status": "completed"
        },
        "tags": []
      },
      "source": [
        "We follow the same procedure as above to implement DNN architecture\n",
        "\n",
        "### TRAIN THE MODEL"
      ]
    },
    {
      "cell_type": "code",
      "execution_count": null,
      "id": "856d462e",
      "metadata": {
        "execution": {
          "iopub.execute_input": "2023-12-10T01:02:36.286801Z",
          "iopub.status.busy": "2023-12-10T01:02:36.285784Z",
          "iopub.status.idle": "2023-12-10T01:02:36.873090Z",
          "shell.execute_reply": "2023-12-10T01:02:36.871880Z"
        },
        "id": "856d462e",
        "papermill": {
          "duration": 1.80016,
          "end_time": "2023-12-10T01:02:36.875680",
          "exception": false,
          "start_time": "2023-12-10T01:02:35.075520",
          "status": "completed"
        },
        "tags": []
      },
      "outputs": [],
      "source": [
        "X = df.drop(columns=['names','labels']).values\n",
        "\n",
        "# Assigning Classes\n",
        "y = df[['labels']].values"
      ]
    },
    {
      "cell_type": "code",
      "execution_count": null,
      "id": "c3de0451",
      "metadata": {
        "execution": {
          "iopub.execute_input": "2023-12-10T01:02:39.226210Z",
          "iopub.status.busy": "2023-12-10T01:02:39.225804Z",
          "iopub.status.idle": "2023-12-10T01:02:41.696471Z",
          "shell.execute_reply": "2023-12-10T01:02:41.695264Z"
        },
        "id": "c3de0451",
        "papermill": {
          "duration": 3.688367,
          "end_time": "2023-12-10T01:02:41.699003",
          "exception": false,
          "start_time": "2023-12-10T01:02:38.010636",
          "status": "completed"
        },
        "tags": []
      },
      "outputs": [],
      "source": [
        "X_train, X_test, y_train, y_test = train_test_split(X, y, test_size=0.2)\n",
        "y_train = y_train.reshape((-1,))\n",
        "y_test = y_test.reshape((-1,))"
      ]
    },
    {
      "cell_type": "code",
      "execution_count": null,
      "id": "32d4735c",
      "metadata": {
        "execution": {
          "iopub.execute_input": "2023-12-10T01:02:44.059705Z",
          "iopub.status.busy": "2023-12-10T01:02:44.058884Z",
          "iopub.status.idle": "2023-12-10T01:02:45.529594Z",
          "shell.execute_reply": "2023-12-10T01:02:45.528552Z"
        },
        "id": "32d4735c",
        "papermill": {
          "duration": 2.694631,
          "end_time": "2023-12-10T01:02:45.532242",
          "exception": false,
          "start_time": "2023-12-10T01:02:42.837611",
          "status": "completed"
        },
        "tags": []
      },
      "outputs": [],
      "source": [
        "lb = LabelBinarizer()\n",
        "y_train_label = lb.fit_transform(y_train)\n",
        "y_test_label = lb.transform(y_test)\n",
        "#print('Train labels dimension:');print(y_train.shape)\n",
        "#print('Test labels dimension:');print(y_test.shape)"
      ]
    },
    {
      "cell_type": "code",
      "execution_count": null,
      "id": "cb9d1154",
      "metadata": {
        "execution": {
          "iopub.execute_input": "2023-12-10T01:02:47.882909Z",
          "iopub.status.busy": "2023-12-10T01:02:47.881882Z",
          "iopub.status.idle": "2023-12-10T01:02:48.396950Z",
          "shell.execute_reply": "2023-12-10T01:02:48.395808Z"
        },
        "id": "cb9d1154",
        "papermill": {
          "duration": 1.649385,
          "end_time": "2023-12-10T01:02:48.399467",
          "exception": false,
          "start_time": "2023-12-10T01:02:46.750082",
          "status": "completed"
        },
        "tags": []
      },
      "outputs": [],
      "source": [
        "X_train, X_test = np.true_divide(X_train, 255), np.true_divide(X_test, 255)"
      ]
    },
    {
      "cell_type": "markdown",
      "id": "1393fec7",
      "metadata": {
        "id": "1393fec7",
        "papermill": {
          "duration": 1.246012,
          "end_time": "2023-12-10T01:02:50.889749",
          "exception": false,
          "start_time": "2023-12-10T01:02:49.643737",
          "status": "completed"
        },
        "tags": []
      },
      "source": [
        "### IMPLEMENTATION OF DNN MODEL\n",
        "\n",
        "The architecture includes densely connected layers with ReLU activation and dropout for regularization. The model is compiled with the categorical crossentropy loss, the Adam optimizer, and accuracy as the evaluation metric."
      ]
    },
    {
      "cell_type": "code",
      "execution_count": null,
      "id": "c4776c28",
      "metadata": {
        "execution": {
          "iopub.execute_input": "2023-12-10T01:02:53.260931Z",
          "iopub.status.busy": "2023-12-10T01:02:53.260548Z",
          "iopub.status.idle": "2023-12-10T01:02:53.380409Z",
          "shell.execute_reply": "2023-12-10T01:02:53.379445Z"
        },
        "id": "c4776c28",
        "papermill": {
          "duration": 1.359021,
          "end_time": "2023-12-10T01:02:53.382778",
          "exception": false,
          "start_time": "2023-12-10T01:02:52.023757",
          "status": "completed"
        },
        "tags": []
      },
      "outputs": [],
      "source": [
        "dnnmodel = tf.keras.Sequential([\n",
        "    tf.keras.layers.Dense(1024, input_shape=(X_train.shape[1],), activation='relu'),\n",
        "    tf.keras.layers.Dropout(0.15),\n",
        "    tf.keras.layers.Dense(512, activation='relu'),\n",
        "    tf.keras.layers.Dropout(0.15),\n",
        "    tf.keras.layers.Dense(256, activation='relu'),\n",
        "    tf.keras.layers.Dropout(0.15),\n",
        "    tf.keras.layers.Dense(126, activation='relu'),\n",
        "    tf.keras.layers.Dropout(0.15),\n",
        "    tf.keras.layers.Dense(y_train_label.shape[1], activation='softmax'),\n",
        "])\n",
        "\n",
        "#dnnmodel.compile(losdnnmodel.summary()s='categorical_crossentropy', optimizer='adam', metrics=['accuracy'])\n",
        "dnnmodel.compile(loss='categorical_crossentropy', optimizer='adam', metrics=['accuracy'])\n"
      ]
    },
    {
      "cell_type": "code",
      "execution_count": null,
      "id": "e97ebe53",
      "metadata": {
        "execution": {
          "iopub.execute_input": "2023-12-10T01:02:55.723740Z",
          "iopub.status.busy": "2023-12-10T01:02:55.722844Z",
          "iopub.status.idle": "2023-12-10T01:02:55.754053Z",
          "shell.execute_reply": "2023-12-10T01:02:55.752994Z"
        },
        "id": "e97ebe53",
        "papermill": {
          "duration": 1.16154,
          "end_time": "2023-12-10T01:02:55.757262",
          "exception": false,
          "start_time": "2023-12-10T01:02:54.595722",
          "status": "completed"
        },
        "tags": [],
        "outputId": "8f83a08b-aee9-46cf-d241-dfcd3957a733"
      },
      "outputs": [
        {
          "name": "stdout",
          "output_type": "stream",
          "text": [
            "Model: \"sequential_2\"\n",
            "_________________________________________________________________\n",
            " Layer (type)                Output Shape              Param #   \n",
            "=================================================================\n",
            " dense_5 (Dense)             (None, 1024)              803840    \n",
            "                                                                 \n",
            " dropout_2 (Dropout)         (None, 1024)              0         \n",
            "                                                                 \n",
            " dense_6 (Dense)             (None, 512)               524800    \n",
            "                                                                 \n",
            " dropout_3 (Dropout)         (None, 512)               0         \n",
            "                                                                 \n",
            " dense_7 (Dense)             (None, 256)               131328    \n",
            "                                                                 \n",
            " dropout_4 (Dropout)         (None, 256)               0         \n",
            "                                                                 \n",
            " dense_8 (Dense)             (None, 126)               32382     \n",
            "                                                                 \n",
            " dropout_5 (Dropout)         (None, 126)               0         \n",
            "                                                                 \n",
            " dense_9 (Dense)             (None, 94)                11938     \n",
            "                                                                 \n",
            "=================================================================\n",
            "Total params: 1504288 (5.74 MB)\n",
            "Trainable params: 1504288 (5.74 MB)\n",
            "Non-trainable params: 0 (0.00 Byte)\n",
            "_________________________________________________________________\n"
          ]
        }
      ],
      "source": [
        "dnnmodel.summary()"
      ]
    },
    {
      "cell_type": "markdown",
      "id": "7b28ed4f",
      "metadata": {
        "id": "7b28ed4f",
        "papermill": {
          "duration": 1.198025,
          "end_time": "2023-12-10T01:02:58.154752",
          "exception": false,
          "start_time": "2023-12-10T01:02:56.956727",
          "status": "completed"
        },
        "tags": []
      },
      "source": [
        "### FITTING THE DNN MODEL"
      ]
    },
    {
      "cell_type": "code",
      "execution_count": null,
      "id": "a7414f84",
      "metadata": {
        "execution": {
          "iopub.execute_input": "2023-12-10T01:03:00.481145Z",
          "iopub.status.busy": "2023-12-10T01:03:00.480775Z",
          "iopub.status.idle": "2023-12-10T01:40:55.834934Z",
          "shell.execute_reply": "2023-12-10T01:40:55.832924Z"
        },
        "id": "a7414f84",
        "papermill": {
          "duration": 2276.55924,
          "end_time": "2023-12-10T01:40:55.838108",
          "exception": false,
          "start_time": "2023-12-10T01:02:59.278868",
          "status": "completed"
        },
        "tags": [],
        "outputId": "b07d22d1-c005-4654-a714-812c465a62a8"
      },
      "outputs": [
        {
          "name": "stdout",
          "output_type": "stream",
          "text": [
            "Epoch 1/100\n",
            "771/771 [==============================] - 23s 29ms/step - loss: 0.8788 - accuracy: 0.7562 - val_loss: 0.4412 - val_accuracy: 0.8575\n",
            "Epoch 2/100\n",
            "771/771 [==============================] - 22s 28ms/step - loss: 0.4598 - accuracy: 0.8527 - val_loss: 0.3668 - val_accuracy: 0.8773\n",
            "Epoch 3/100\n",
            "771/771 [==============================] - 22s 29ms/step - loss: 0.3940 - accuracy: 0.8692 - val_loss: 0.3406 - val_accuracy: 0.8855\n",
            "Epoch 4/100\n",
            "771/771 [==============================] - 22s 29ms/step - loss: 0.3570 - accuracy: 0.8800 - val_loss: 0.3181 - val_accuracy: 0.8938\n",
            "Epoch 5/100\n",
            "771/771 [==============================] - 22s 29ms/step - loss: 0.3300 - accuracy: 0.8874 - val_loss: 0.3057 - val_accuracy: 0.8969\n",
            "Epoch 6/100\n",
            "771/771 [==============================] - 22s 29ms/step - loss: 0.3076 - accuracy: 0.8940 - val_loss: 0.3024 - val_accuracy: 0.9025\n",
            "Epoch 7/100\n",
            "771/771 [==============================] - 22s 29ms/step - loss: 0.2894 - accuracy: 0.8993 - val_loss: 0.2916 - val_accuracy: 0.9049\n",
            "Epoch 8/100\n",
            "771/771 [==============================] - 22s 29ms/step - loss: 0.2772 - accuracy: 0.9037 - val_loss: 0.2866 - val_accuracy: 0.9062\n",
            "Epoch 9/100\n",
            "771/771 [==============================] - 22s 29ms/step - loss: 0.2631 - accuracy: 0.9079 - val_loss: 0.2775 - val_accuracy: 0.9086\n",
            "Epoch 10/100\n",
            "771/771 [==============================] - 22s 28ms/step - loss: 0.2533 - accuracy: 0.9107 - val_loss: 0.2792 - val_accuracy: 0.9108\n",
            "Epoch 11/100\n",
            "771/771 [==============================] - 22s 29ms/step - loss: 0.2436 - accuracy: 0.9151 - val_loss: 0.2755 - val_accuracy: 0.9107\n",
            "Epoch 12/100\n",
            "771/771 [==============================] - 22s 29ms/step - loss: 0.2347 - accuracy: 0.9176 - val_loss: 0.2737 - val_accuracy: 0.9128\n",
            "Epoch 13/100\n",
            "771/771 [==============================] - 23s 30ms/step - loss: 0.2285 - accuracy: 0.9194 - val_loss: 0.2719 - val_accuracy: 0.9130\n",
            "Epoch 14/100\n",
            "771/771 [==============================] - 23s 29ms/step - loss: 0.2232 - accuracy: 0.9213 - val_loss: 0.2689 - val_accuracy: 0.9164\n",
            "Epoch 15/100\n",
            "771/771 [==============================] - 23s 30ms/step - loss: 0.2174 - accuracy: 0.9228 - val_loss: 0.2612 - val_accuracy: 0.9189\n",
            "Epoch 16/100\n",
            "771/771 [==============================] - 23s 30ms/step - loss: 0.2114 - accuracy: 0.9252 - val_loss: 0.2645 - val_accuracy: 0.9194\n",
            "Epoch 17/100\n",
            "771/771 [==============================] - 23s 30ms/step - loss: 0.2073 - accuracy: 0.9266 - val_loss: 0.2690 - val_accuracy: 0.9167\n",
            "Epoch 18/100\n",
            "771/771 [==============================] - 23s 30ms/step - loss: 0.2043 - accuracy: 0.9278 - val_loss: 0.2654 - val_accuracy: 0.9196\n",
            "Epoch 19/100\n",
            "771/771 [==============================] - 23s 30ms/step - loss: 0.1989 - accuracy: 0.9295 - val_loss: 0.2641 - val_accuracy: 0.9184\n",
            "Epoch 20/100\n",
            "771/771 [==============================] - 23s 29ms/step - loss: 0.1955 - accuracy: 0.9305 - val_loss: 0.2682 - val_accuracy: 0.9214\n",
            "Epoch 21/100\n",
            "771/771 [==============================] - 23s 30ms/step - loss: 0.1920 - accuracy: 0.9313 - val_loss: 0.2673 - val_accuracy: 0.9207\n",
            "Epoch 22/100\n",
            "771/771 [==============================] - 23s 29ms/step - loss: 0.1889 - accuracy: 0.9329 - val_loss: 0.2627 - val_accuracy: 0.9193\n",
            "Epoch 23/100\n",
            "771/771 [==============================] - 23s 30ms/step - loss: 0.1837 - accuracy: 0.9339 - val_loss: 0.2638 - val_accuracy: 0.9225\n",
            "Epoch 24/100\n",
            "771/771 [==============================] - 23s 29ms/step - loss: 0.1833 - accuracy: 0.9351 - val_loss: 0.2660 - val_accuracy: 0.9224\n",
            "Epoch 25/100\n",
            "771/771 [==============================] - 23s 29ms/step - loss: 0.1788 - accuracy: 0.9356 - val_loss: 0.2783 - val_accuracy: 0.9211\n",
            "Epoch 26/100\n",
            "771/771 [==============================] - 23s 30ms/step - loss: 0.1790 - accuracy: 0.9359 - val_loss: 0.2753 - val_accuracy: 0.9201\n",
            "Epoch 27/100\n",
            "771/771 [==============================] - 23s 29ms/step - loss: 0.1758 - accuracy: 0.9373 - val_loss: 0.2686 - val_accuracy: 0.9232\n",
            "Epoch 28/100\n",
            "771/771 [==============================] - 23s 30ms/step - loss: 0.1750 - accuracy: 0.9373 - val_loss: 0.2731 - val_accuracy: 0.9219\n",
            "Epoch 29/100\n",
            "771/771 [==============================] - 23s 29ms/step - loss: 0.1707 - accuracy: 0.9385 - val_loss: 0.2787 - val_accuracy: 0.9221\n",
            "Epoch 30/100\n",
            "771/771 [==============================] - 22s 29ms/step - loss: 0.1719 - accuracy: 0.9383 - val_loss: 0.2659 - val_accuracy: 0.9232\n",
            "Epoch 31/100\n",
            "771/771 [==============================] - 23s 30ms/step - loss: 0.1690 - accuracy: 0.9395 - val_loss: 0.2698 - val_accuracy: 0.9232\n",
            "Epoch 32/100\n",
            "771/771 [==============================] - 22s 29ms/step - loss: 0.1666 - accuracy: 0.9401 - val_loss: 0.2710 - val_accuracy: 0.9243\n",
            "Epoch 33/100\n",
            "771/771 [==============================] - 22s 29ms/step - loss: 0.1630 - accuracy: 0.9411 - val_loss: 0.2774 - val_accuracy: 0.9251\n",
            "Epoch 34/100\n",
            "771/771 [==============================] - 23s 30ms/step - loss: 0.1648 - accuracy: 0.9405 - val_loss: 0.2806 - val_accuracy: 0.9253\n",
            "Epoch 35/100\n",
            "771/771 [==============================] - 23s 30ms/step - loss: 0.1617 - accuracy: 0.9414 - val_loss: 0.2832 - val_accuracy: 0.9228\n",
            "Epoch 36/100\n",
            "771/771 [==============================] - 22s 28ms/step - loss: 0.1590 - accuracy: 0.9430 - val_loss: 0.2743 - val_accuracy: 0.9247\n",
            "Epoch 37/100\n",
            "771/771 [==============================] - 23s 29ms/step - loss: 0.1595 - accuracy: 0.9432 - val_loss: 0.2747 - val_accuracy: 0.9258\n",
            "Epoch 38/100\n",
            "771/771 [==============================] - 23s 29ms/step - loss: 0.1579 - accuracy: 0.9435 - val_loss: 0.2803 - val_accuracy: 0.9232\n",
            "Epoch 39/100\n",
            "771/771 [==============================] - 22s 29ms/step - loss: 0.1566 - accuracy: 0.9442 - val_loss: 0.2770 - val_accuracy: 0.9250\n",
            "Epoch 40/100\n",
            "771/771 [==============================] - 23s 30ms/step - loss: 0.1553 - accuracy: 0.9442 - val_loss: 0.2886 - val_accuracy: 0.9248\n",
            "Epoch 41/100\n",
            "771/771 [==============================] - 23s 30ms/step - loss: 0.1531 - accuracy: 0.9453 - val_loss: 0.2859 - val_accuracy: 0.9248\n",
            "Epoch 42/100\n",
            "771/771 [==============================] - 22s 29ms/step - loss: 0.1535 - accuracy: 0.9455 - val_loss: 0.2798 - val_accuracy: 0.9255\n",
            "Epoch 43/100\n",
            "771/771 [==============================] - 23s 30ms/step - loss: 0.1508 - accuracy: 0.9459 - val_loss: 0.2837 - val_accuracy: 0.9258\n",
            "Epoch 44/100\n",
            "771/771 [==============================] - 23s 30ms/step - loss: 0.1494 - accuracy: 0.9461 - val_loss: 0.2861 - val_accuracy: 0.9244\n",
            "Epoch 45/100\n",
            "771/771 [==============================] - 22s 29ms/step - loss: 0.1500 - accuracy: 0.9461 - val_loss: 0.2895 - val_accuracy: 0.9275\n",
            "Epoch 46/100\n",
            "771/771 [==============================] - 22s 29ms/step - loss: 0.1472 - accuracy: 0.9470 - val_loss: 0.2819 - val_accuracy: 0.9262\n",
            "Epoch 47/100\n",
            "771/771 [==============================] - 23s 30ms/step - loss: 0.1467 - accuracy: 0.9471 - val_loss: 0.2951 - val_accuracy: 0.9252\n",
            "Epoch 48/100\n",
            "771/771 [==============================] - 22s 29ms/step - loss: 0.1432 - accuracy: 0.9487 - val_loss: 0.2946 - val_accuracy: 0.9249\n",
            "Epoch 49/100\n",
            "771/771 [==============================] - 23s 29ms/step - loss: 0.1452 - accuracy: 0.9479 - val_loss: 0.3074 - val_accuracy: 0.9236\n",
            "Epoch 50/100\n",
            "771/771 [==============================] - 23s 30ms/step - loss: 0.1436 - accuracy: 0.9484 - val_loss: 0.3000 - val_accuracy: 0.9258\n",
            "Epoch 51/100\n",
            "771/771 [==============================] - 22s 29ms/step - loss: 0.1433 - accuracy: 0.9485 - val_loss: 0.2891 - val_accuracy: 0.9256\n",
            "Epoch 52/100\n",
            "771/771 [==============================] - 23s 29ms/step - loss: 0.1453 - accuracy: 0.9484 - val_loss: 0.3058 - val_accuracy: 0.9254\n",
            "Epoch 53/100\n",
            "771/771 [==============================] - 23s 30ms/step - loss: 0.1426 - accuracy: 0.9488 - val_loss: 0.2969 - val_accuracy: 0.9243\n",
            "Epoch 54/100\n",
            "771/771 [==============================] - 22s 29ms/step - loss: 0.1420 - accuracy: 0.9493 - val_loss: 0.2936 - val_accuracy: 0.9265\n",
            "Epoch 55/100\n",
            "771/771 [==============================] - 23s 30ms/step - loss: 0.1416 - accuracy: 0.9497 - val_loss: 0.3047 - val_accuracy: 0.9250\n",
            "Epoch 56/100\n",
            "771/771 [==============================] - 23s 29ms/step - loss: 0.1398 - accuracy: 0.9495 - val_loss: 0.2965 - val_accuracy: 0.9246\n",
            "Epoch 57/100\n",
            "771/771 [==============================] - 22s 29ms/step - loss: 0.1389 - accuracy: 0.9505 - val_loss: 0.3009 - val_accuracy: 0.9252\n",
            "Epoch 58/100\n",
            "771/771 [==============================] - 23s 30ms/step - loss: 0.1370 - accuracy: 0.9508 - val_loss: 0.3052 - val_accuracy: 0.9267\n",
            "Epoch 59/100\n",
            "771/771 [==============================] - 23s 30ms/step - loss: 0.1366 - accuracy: 0.9505 - val_loss: 0.3126 - val_accuracy: 0.9248\n",
            "Epoch 60/100\n",
            "771/771 [==============================] - 22s 28ms/step - loss: 0.1377 - accuracy: 0.9509 - val_loss: 0.2975 - val_accuracy: 0.9253\n",
            "Epoch 61/100\n",
            "771/771 [==============================] - 23s 30ms/step - loss: 0.1357 - accuracy: 0.9516 - val_loss: 0.2930 - val_accuracy: 0.9272\n",
            "Epoch 62/100\n",
            "771/771 [==============================] - 23s 30ms/step - loss: 0.1347 - accuracy: 0.9517 - val_loss: 0.3083 - val_accuracy: 0.9249\n",
            "Epoch 63/100\n",
            "771/771 [==============================] - 22s 28ms/step - loss: 0.1398 - accuracy: 0.9503 - val_loss: 0.2999 - val_accuracy: 0.9258\n",
            "Epoch 64/100\n",
            "771/771 [==============================] - 25s 33ms/step - loss: 0.1343 - accuracy: 0.9515 - val_loss: 0.3013 - val_accuracy: 0.9259\n",
            "Epoch 65/100\n",
            "771/771 [==============================] - 23s 30ms/step - loss: 0.1314 - accuracy: 0.9521 - val_loss: 0.3056 - val_accuracy: 0.9272\n",
            "Epoch 66/100\n",
            "771/771 [==============================] - 22s 28ms/step - loss: 0.1315 - accuracy: 0.9528 - val_loss: 0.3148 - val_accuracy: 0.9259\n",
            "Epoch 67/100\n",
            "771/771 [==============================] - 23s 30ms/step - loss: 0.1298 - accuracy: 0.9534 - val_loss: 0.3184 - val_accuracy: 0.9248\n",
            "Epoch 68/100\n",
            "771/771 [==============================] - 23s 30ms/step - loss: 0.1328 - accuracy: 0.9528 - val_loss: 0.3191 - val_accuracy: 0.9250\n",
            "Epoch 69/100\n",
            "771/771 [==============================] - 22s 29ms/step - loss: 0.1312 - accuracy: 0.9532 - val_loss: 0.3213 - val_accuracy: 0.9257\n",
            "Epoch 70/100\n",
            "771/771 [==============================] - 23s 30ms/step - loss: 0.1313 - accuracy: 0.9532 - val_loss: 0.3157 - val_accuracy: 0.9246\n",
            "Epoch 71/100\n",
            "771/771 [==============================] - 23s 30ms/step - loss: 0.1291 - accuracy: 0.9535 - val_loss: 0.3100 - val_accuracy: 0.9284\n",
            "Epoch 72/100\n",
            "771/771 [==============================] - 23s 29ms/step - loss: 0.1288 - accuracy: 0.9537 - val_loss: 0.3209 - val_accuracy: 0.9250\n",
            "Epoch 73/100\n",
            "771/771 [==============================] - 23s 30ms/step - loss: 0.1305 - accuracy: 0.9532 - val_loss: 0.3202 - val_accuracy: 0.9270\n",
            "Epoch 74/100\n",
            "771/771 [==============================] - 23s 30ms/step - loss: 0.1280 - accuracy: 0.9542 - val_loss: 0.3112 - val_accuracy: 0.9284\n",
            "Epoch 75/100\n",
            "771/771 [==============================] - 23s 29ms/step - loss: 0.1286 - accuracy: 0.9541 - val_loss: 0.3004 - val_accuracy: 0.9285\n",
            "Epoch 76/100\n",
            "771/771 [==============================] - 23s 30ms/step - loss: 0.1289 - accuracy: 0.9541 - val_loss: 0.3164 - val_accuracy: 0.9263\n",
            "Epoch 77/100\n",
            "771/771 [==============================] - 23s 29ms/step - loss: 0.1306 - accuracy: 0.9542 - val_loss: 0.3091 - val_accuracy: 0.9258\n",
            "Epoch 78/100\n",
            "771/771 [==============================] - 23s 30ms/step - loss: 0.1251 - accuracy: 0.9545 - val_loss: 0.3142 - val_accuracy: 0.9258\n",
            "Epoch 79/100\n",
            "771/771 [==============================] - 23s 30ms/step - loss: 0.1262 - accuracy: 0.9549 - val_loss: 0.3302 - val_accuracy: 0.9223\n",
            "Epoch 80/100\n",
            "771/771 [==============================] - 23s 29ms/step - loss: 0.1266 - accuracy: 0.9552 - val_loss: 0.3317 - val_accuracy: 0.9264\n",
            "Epoch 81/100\n",
            "771/771 [==============================] - 24s 31ms/step - loss: 0.1233 - accuracy: 0.9552 - val_loss: 0.3269 - val_accuracy: 0.9273\n",
            "Epoch 82/100\n",
            "771/771 [==============================] - 24s 31ms/step - loss: 0.1269 - accuracy: 0.9553 - val_loss: 0.3205 - val_accuracy: 0.9275\n",
            "Epoch 83/100\n",
            "771/771 [==============================] - 22s 29ms/step - loss: 0.1224 - accuracy: 0.9561 - val_loss: 0.3351 - val_accuracy: 0.9257\n",
            "Epoch 84/100\n",
            "771/771 [==============================] - 23s 30ms/step - loss: 0.1231 - accuracy: 0.9558 - val_loss: 0.3224 - val_accuracy: 0.9265\n",
            "Epoch 85/100\n",
            "771/771 [==============================] - 23s 30ms/step - loss: 0.1250 - accuracy: 0.9556 - val_loss: 0.3363 - val_accuracy: 0.9256\n",
            "Epoch 86/100\n",
            "771/771 [==============================] - 22s 29ms/step - loss: 0.1230 - accuracy: 0.9562 - val_loss: 0.3361 - val_accuracy: 0.9272\n",
            "Epoch 87/100\n",
            "771/771 [==============================] - 23s 30ms/step - loss: 0.1233 - accuracy: 0.9564 - val_loss: 0.3260 - val_accuracy: 0.9276\n",
            "Epoch 88/100\n",
            "771/771 [==============================] - 23s 30ms/step - loss: 0.1217 - accuracy: 0.9569 - val_loss: 0.3277 - val_accuracy: 0.9249\n",
            "Epoch 89/100\n",
            "771/771 [==============================] - 22s 29ms/step - loss: 0.1211 - accuracy: 0.9570 - val_loss: 0.3305 - val_accuracy: 0.9254\n",
            "Epoch 90/100\n",
            "771/771 [==============================] - 24s 31ms/step - loss: 0.1229 - accuracy: 0.9561 - val_loss: 0.3307 - val_accuracy: 0.9269\n",
            "Epoch 91/100\n",
            "771/771 [==============================] - 22s 29ms/step - loss: 0.1194 - accuracy: 0.9574 - val_loss: 0.3379 - val_accuracy: 0.9271\n",
            "Epoch 92/100\n",
            "771/771 [==============================] - 23s 29ms/step - loss: 0.1209 - accuracy: 0.9570 - val_loss: 0.3174 - val_accuracy: 0.9269\n",
            "Epoch 93/100\n",
            "771/771 [==============================] - 23s 30ms/step - loss: 0.1225 - accuracy: 0.9570 - val_loss: 0.3441 - val_accuracy: 0.9280\n",
            "Epoch 94/100\n",
            "771/771 [==============================] - 22s 28ms/step - loss: 0.1205 - accuracy: 0.9572 - val_loss: 0.3540 - val_accuracy: 0.9268\n",
            "Epoch 95/100\n",
            "771/771 [==============================] - 23s 30ms/step - loss: 0.1212 - accuracy: 0.9571 - val_loss: 0.3407 - val_accuracy: 0.9276\n",
            "Epoch 96/100\n",
            "771/771 [==============================] - 23s 30ms/step - loss: 0.1191 - accuracy: 0.9579 - val_loss: 0.3393 - val_accuracy: 0.9267\n",
            "Epoch 97/100\n",
            "771/771 [==============================] - 22s 29ms/step - loss: 0.1173 - accuracy: 0.9581 - val_loss: 0.3373 - val_accuracy: 0.9266\n",
            "Epoch 98/100\n",
            "771/771 [==============================] - 23s 30ms/step - loss: 0.1178 - accuracy: 0.9580 - val_loss: 0.3429 - val_accuracy: 0.9245\n",
            "Epoch 99/100\n",
            "771/771 [==============================] - 23s 30ms/step - loss: 0.1199 - accuracy: 0.9577 - val_loss: 0.3336 - val_accuracy: 0.9284\n",
            "Epoch 100/100\n",
            "771/771 [==============================] - 22s 29ms/step - loss: 0.1178 - accuracy: 0.9579 - val_loss: 0.3394 - val_accuracy: 0.9279\n"
          ]
        }
      ],
      "source": [
        "dnn_result = dnnmodel.fit(X_train, y_train_label, epochs=100, batch_size=256, verbose=1, validation_split=0.1)"
      ]
    },
    {
      "cell_type": "markdown",
      "id": "2a833966",
      "metadata": {
        "id": "2a833966",
        "papermill": {
          "duration": 3.903679,
          "end_time": "2023-12-10T01:41:03.547761",
          "exception": false,
          "start_time": "2023-12-10T01:40:59.644082",
          "status": "completed"
        },
        "tags": []
      },
      "source": [
        "### EVALUATING MODEL ACCURACY"
      ]
    },
    {
      "cell_type": "code",
      "execution_count": null,
      "id": "a34b7737",
      "metadata": {
        "execution": {
          "iopub.execute_input": "2023-12-10T01:41:12.175331Z",
          "iopub.status.busy": "2023-12-10T01:41:12.174436Z",
          "iopub.status.idle": "2023-12-10T01:41:17.820111Z",
          "shell.execute_reply": "2023-12-10T01:41:17.819321Z"
        },
        "id": "a34b7737",
        "papermill": {
          "duration": 9.504991,
          "end_time": "2023-12-10T01:41:17.822362",
          "exception": false,
          "start_time": "2023-12-10T01:41:08.317371",
          "status": "completed"
        },
        "tags": [],
        "outputId": "21e222d0-4d77-4d90-e2e1-dcc5494cb445"
      },
      "outputs": [
        {
          "name": "stdout",
          "output_type": "stream",
          "text": [
            "Highest accuracy on validation set achieved in epoch 75\n",
            "Accuracy of DNN on test dataset for best epoch is: 92.65%\n"
          ]
        }
      ],
      "source": [
        "# Extract accuracy values for each epoch\n",
        "acc_history = dnn_result.history['accuracy']\n",
        "val_acc_history = dnn_result.history['val_accuracy']\n",
        "\n",
        "# Find epoch with highest accuracy on validation set\n",
        "best_val_acc_epoch = val_acc_history.index(max(val_acc_history))\n",
        "\n",
        "# Get accuracy on test data for best epoch\n",
        "best_test_acc = dnnmodel.evaluate(X_test, y_test_label, verbose=0)[1]\n",
        "print(f\"Highest accuracy on validation set achieved in epoch {best_val_acc_epoch+1}\")\n",
        "print(f\"Accuracy of DNN on test dataset for best epoch is: {round(best_test_acc, 4)*100}%\")"
      ]
    },
    {
      "cell_type": "markdown",
      "id": "e0537c96",
      "metadata": {
        "id": "e0537c96",
        "papermill": {
          "duration": 3.942181,
          "end_time": "2023-12-10T01:41:25.533860",
          "exception": false,
          "start_time": "2023-12-10T01:41:21.591679",
          "status": "completed"
        },
        "tags": []
      },
      "source": [
        "## CONCLUSION\n",
        "\n",
        "Based on the outcomes,\n",
        "\n",
        "\n",
        "\n",
        "Based on the outcomes, the Deep Neural Network (DNN) achieved an accuracy of on the test dataset at its best epoch, while the Convolutional Neural Network (CNN) attained an accuracy of **92.65%** . Additionally, the CNN model reached its highest accuracy of **93.33%** at epoch 10, surpassing the accuracy achieved by the DNN model.\n",
        "\n",
        "***These findings indicate that, for this specific dataset, the CNN model exhibits superior performance compared to the DNN model.***\n",
        "CNNs are generally more effective for image classification tasks because they can effectively learn spatial features inherent in image data, a capability not present in DNNs.\n",
        "This spatial feature learning enables CNNs to more accurately capture patterns and relationships within image data, leading to enhanced classification accuracy.\n",
        "\n",
        "***In conclusion, based on the demonstrated performance, it is advisable to opt for the CNN model for this dataset due to its superior performance in comparison to the DNN model.***"
      ]
    },
    {
      "cell_type": "markdown",
      "source": [
        "##References:\n",
        "\n",
        "https://www.kaggle.com/datasets/nikbearbrown/tmnist-alphabet-94-characters/code?datasetId=1564532"
      ],
      "metadata": {
        "id": "qm5EOfWC28G9"
      },
      "id": "qm5EOfWC28G9"
    },
    {
      "cell_type": "markdown",
      "id": "c0167a3b",
      "metadata": {
        "id": "c0167a3b",
        "papermill": {
          "duration": 3.899396,
          "end_time": "2023-12-10T01:41:33.197080",
          "exception": false,
          "start_time": "2023-12-10T01:41:29.297684",
          "status": "completed"
        },
        "tags": []
      },
      "source": [
        "## LICENSE\n",
        "\n",
        "\n",
        "\n",
        "Copyright 2023 Smithi Parthiban\n",
        "\n",
        "Permission is hereby granted, free of charge, to any person obtaining a copy of this software and associated documentation files (the \"Software\"), to deal in the Software without restriction, including without limitation the rights to use, copy, modify, merge, publish, distribute, sublicense, and/or sell copies of the Software, and to permit persons to whom the Software is furnished to do so, subject to the following conditions:The above copyright notice and this permission notice shall be included in all copies or substantial portions of the Software.THE SOFTWARE IS PROVIDED \"AS IS\", WITHOUT WARRANTY OF ANY KIND, EXPRESS OR IMPLIED, INCLUDING BUT NOT LIMITED TO THE WARRANTIES OF MERCHANTABILITY, FITNESS FOR A PARTICULAR PURPOSE AND NONINFRINGEMENT. IN NO EVENT SHALL THE AUTHORS OR COPYRIGHT HOLDERS BE LIABLE FOR ANY CLAIM, DAMAGES OR OTHER LIABILITY, WHETHER IN AN ACTION OF CONTRACT, TORT OR OTHERWISE, ARISING FROM, OUT OF OR IN CONNECTION WITH THE SOFTWARE OR THE USE OR OTHER DEALINGS IN THE SOFTWARE."
      ]
    }
  ],
  "metadata": {
    "colab": {
      "provenance": []
    },
    "kaggle": {
      "accelerator": "none",
      "dataSources": [
        {
          "datasetId": 1564532,
          "sourceId": 2830968,
          "sourceType": "datasetVersion"
        }
      ],
      "dockerImageVersionId": 30615,
      "isGpuEnabled": false,
      "isInternetEnabled": false,
      "language": "python",
      "sourceType": "notebook"
    },
    "kernelspec": {
      "display_name": "Python 3",
      "language": "python",
      "name": "python3"
    },
    "language_info": {
      "codemirror_mode": {
        "name": "ipython",
        "version": 3
      },
      "file_extension": ".py",
      "mimetype": "text/x-python",
      "name": "python",
      "nbconvert_exporter": "python",
      "pygments_lexer": "ipython3",
      "version": "3.10.12"
    },
    "papermill": {
      "default_parameters": {},
      "duration": 4016.571164,
      "end_time": "2023-12-10T01:41:39.682653",
      "environment_variables": {},
      "exception": null,
      "input_path": "__notebook__.ipynb",
      "output_path": "__notebook__.ipynb",
      "parameters": {},
      "start_time": "2023-12-10T00:34:43.111489",
      "version": "2.4.0"
    }
  },
  "nbformat": 4,
  "nbformat_minor": 5
}